{
 "cells": [
  {
   "cell_type": "markdown",
   "metadata": {},
   "source": [
    "Problem Statement:\n",
    "----------------------------\n",
    "A Chinese automobile company Geely Auto aspires to enter the US market by setting up their manufacturing unit there and producing cars locally to give competition to their US and European counterparts. They have contracted an automobile consulting company to understand the factors on which the pricing of cars depends. Specifically, they want to understand the factors affecting the pricing of cars in the American market, since those may be very different from the Chinese market. The company wants to know: \n",
    " - Which variables are significant in predicting the price of a car.\n",
    " - How well those variables describe the price of a car.\n",
    " - Predicted price of cars with the available independent variables."
   ]
  },
  {
   "cell_type": "code",
   "execution_count": 1,
   "metadata": {},
   "outputs": [],
   "source": [
    "import warnings\n",
    "warnings.filterwarnings('ignore')"
   ]
  },
  {
   "cell_type": "markdown",
   "metadata": {},
   "source": [
    "## Step 1: Reading and Understanding the Data"
   ]
  },
  {
   "cell_type": "code",
   "execution_count": 2,
   "metadata": {},
   "outputs": [],
   "source": [
    "import pandas as pd\n",
    "import numpy as np\n",
    "import matplotlib.pyplot as plt\n",
    "import seaborn as sns\n",
    "from sklearn.linear_model import LinearRegression"
   ]
  },
  {
   "cell_type": "code",
   "execution_count": 3,
   "metadata": {},
   "outputs": [],
   "source": [
    "# Importing Housing.csv\n",
    "car_df = pd.read_csv('CarPrice_Assignment.csv')"
   ]
  },
  {
   "cell_type": "code",
   "execution_count": 4,
   "metadata": {},
   "outputs": [
    {
     "data": {
      "text/html": [
       "<div>\n",
       "<style scoped>\n",
       "    .dataframe tbody tr th:only-of-type {\n",
       "        vertical-align: middle;\n",
       "    }\n",
       "\n",
       "    .dataframe tbody tr th {\n",
       "        vertical-align: top;\n",
       "    }\n",
       "\n",
       "    .dataframe thead th {\n",
       "        text-align: right;\n",
       "    }\n",
       "</style>\n",
       "<table border=\"1\" class=\"dataframe\">\n",
       "  <thead>\n",
       "    <tr style=\"text-align: right;\">\n",
       "      <th></th>\n",
       "      <th>car_ID</th>\n",
       "      <th>symboling</th>\n",
       "      <th>CarName</th>\n",
       "      <th>fueltype</th>\n",
       "      <th>aspiration</th>\n",
       "      <th>doornumber</th>\n",
       "      <th>carbody</th>\n",
       "      <th>drivewheel</th>\n",
       "      <th>enginelocation</th>\n",
       "      <th>wheelbase</th>\n",
       "      <th>carlength</th>\n",
       "      <th>carwidth</th>\n",
       "      <th>carheight</th>\n",
       "      <th>curbweight</th>\n",
       "      <th>enginetype</th>\n",
       "      <th>cylindernumber</th>\n",
       "      <th>enginesize</th>\n",
       "      <th>fuelsystem</th>\n",
       "      <th>boreratio</th>\n",
       "      <th>stroke</th>\n",
       "      <th>compressionratio</th>\n",
       "      <th>horsepower</th>\n",
       "      <th>peakrpm</th>\n",
       "      <th>citympg</th>\n",
       "      <th>highwaympg</th>\n",
       "      <th>price</th>\n",
       "    </tr>\n",
       "  </thead>\n",
       "  <tbody>\n",
       "    <tr>\n",
       "      <th>0</th>\n",
       "      <td>1</td>\n",
       "      <td>3</td>\n",
       "      <td>alfa-romero giulia</td>\n",
       "      <td>gas</td>\n",
       "      <td>std</td>\n",
       "      <td>two</td>\n",
       "      <td>convertible</td>\n",
       "      <td>rwd</td>\n",
       "      <td>front</td>\n",
       "      <td>88.6</td>\n",
       "      <td>168.8</td>\n",
       "      <td>64.1</td>\n",
       "      <td>48.8</td>\n",
       "      <td>2548</td>\n",
       "      <td>dohc</td>\n",
       "      <td>four</td>\n",
       "      <td>130</td>\n",
       "      <td>mpfi</td>\n",
       "      <td>3.47</td>\n",
       "      <td>2.68</td>\n",
       "      <td>9.0</td>\n",
       "      <td>111</td>\n",
       "      <td>5000</td>\n",
       "      <td>21</td>\n",
       "      <td>27</td>\n",
       "      <td>13495.0</td>\n",
       "    </tr>\n",
       "    <tr>\n",
       "      <th>1</th>\n",
       "      <td>2</td>\n",
       "      <td>3</td>\n",
       "      <td>alfa-romero stelvio</td>\n",
       "      <td>gas</td>\n",
       "      <td>std</td>\n",
       "      <td>two</td>\n",
       "      <td>convertible</td>\n",
       "      <td>rwd</td>\n",
       "      <td>front</td>\n",
       "      <td>88.6</td>\n",
       "      <td>168.8</td>\n",
       "      <td>64.1</td>\n",
       "      <td>48.8</td>\n",
       "      <td>2548</td>\n",
       "      <td>dohc</td>\n",
       "      <td>four</td>\n",
       "      <td>130</td>\n",
       "      <td>mpfi</td>\n",
       "      <td>3.47</td>\n",
       "      <td>2.68</td>\n",
       "      <td>9.0</td>\n",
       "      <td>111</td>\n",
       "      <td>5000</td>\n",
       "      <td>21</td>\n",
       "      <td>27</td>\n",
       "      <td>16500.0</td>\n",
       "    </tr>\n",
       "    <tr>\n",
       "      <th>2</th>\n",
       "      <td>3</td>\n",
       "      <td>1</td>\n",
       "      <td>alfa-romero Quadrifoglio</td>\n",
       "      <td>gas</td>\n",
       "      <td>std</td>\n",
       "      <td>two</td>\n",
       "      <td>hatchback</td>\n",
       "      <td>rwd</td>\n",
       "      <td>front</td>\n",
       "      <td>94.5</td>\n",
       "      <td>171.2</td>\n",
       "      <td>65.5</td>\n",
       "      <td>52.4</td>\n",
       "      <td>2823</td>\n",
       "      <td>ohcv</td>\n",
       "      <td>six</td>\n",
       "      <td>152</td>\n",
       "      <td>mpfi</td>\n",
       "      <td>2.68</td>\n",
       "      <td>3.47</td>\n",
       "      <td>9.0</td>\n",
       "      <td>154</td>\n",
       "      <td>5000</td>\n",
       "      <td>19</td>\n",
       "      <td>26</td>\n",
       "      <td>16500.0</td>\n",
       "    </tr>\n",
       "    <tr>\n",
       "      <th>3</th>\n",
       "      <td>4</td>\n",
       "      <td>2</td>\n",
       "      <td>audi 100 ls</td>\n",
       "      <td>gas</td>\n",
       "      <td>std</td>\n",
       "      <td>four</td>\n",
       "      <td>sedan</td>\n",
       "      <td>fwd</td>\n",
       "      <td>front</td>\n",
       "      <td>99.8</td>\n",
       "      <td>176.6</td>\n",
       "      <td>66.2</td>\n",
       "      <td>54.3</td>\n",
       "      <td>2337</td>\n",
       "      <td>ohc</td>\n",
       "      <td>four</td>\n",
       "      <td>109</td>\n",
       "      <td>mpfi</td>\n",
       "      <td>3.19</td>\n",
       "      <td>3.40</td>\n",
       "      <td>10.0</td>\n",
       "      <td>102</td>\n",
       "      <td>5500</td>\n",
       "      <td>24</td>\n",
       "      <td>30</td>\n",
       "      <td>13950.0</td>\n",
       "    </tr>\n",
       "    <tr>\n",
       "      <th>4</th>\n",
       "      <td>5</td>\n",
       "      <td>2</td>\n",
       "      <td>audi 100ls</td>\n",
       "      <td>gas</td>\n",
       "      <td>std</td>\n",
       "      <td>four</td>\n",
       "      <td>sedan</td>\n",
       "      <td>4wd</td>\n",
       "      <td>front</td>\n",
       "      <td>99.4</td>\n",
       "      <td>176.6</td>\n",
       "      <td>66.4</td>\n",
       "      <td>54.3</td>\n",
       "      <td>2824</td>\n",
       "      <td>ohc</td>\n",
       "      <td>five</td>\n",
       "      <td>136</td>\n",
       "      <td>mpfi</td>\n",
       "      <td>3.19</td>\n",
       "      <td>3.40</td>\n",
       "      <td>8.0</td>\n",
       "      <td>115</td>\n",
       "      <td>5500</td>\n",
       "      <td>18</td>\n",
       "      <td>22</td>\n",
       "      <td>17450.0</td>\n",
       "    </tr>\n",
       "  </tbody>\n",
       "</table>\n",
       "</div>"
      ],
      "text/plain": [
       "   car_ID  symboling                   CarName fueltype aspiration doornumber  \\\n",
       "0       1          3        alfa-romero giulia      gas        std        two   \n",
       "1       2          3       alfa-romero stelvio      gas        std        two   \n",
       "2       3          1  alfa-romero Quadrifoglio      gas        std        two   \n",
       "3       4          2               audi 100 ls      gas        std       four   \n",
       "4       5          2                audi 100ls      gas        std       four   \n",
       "\n",
       "       carbody drivewheel enginelocation  wheelbase  carlength  carwidth  \\\n",
       "0  convertible        rwd          front       88.6      168.8      64.1   \n",
       "1  convertible        rwd          front       88.6      168.8      64.1   \n",
       "2    hatchback        rwd          front       94.5      171.2      65.5   \n",
       "3        sedan        fwd          front       99.8      176.6      66.2   \n",
       "4        sedan        4wd          front       99.4      176.6      66.4   \n",
       "\n",
       "   carheight  curbweight enginetype cylindernumber  enginesize fuelsystem  \\\n",
       "0       48.8        2548       dohc           four         130       mpfi   \n",
       "1       48.8        2548       dohc           four         130       mpfi   \n",
       "2       52.4        2823       ohcv            six         152       mpfi   \n",
       "3       54.3        2337        ohc           four         109       mpfi   \n",
       "4       54.3        2824        ohc           five         136       mpfi   \n",
       "\n",
       "   boreratio  stroke  compressionratio  horsepower  peakrpm  citympg  \\\n",
       "0       3.47    2.68               9.0         111     5000       21   \n",
       "1       3.47    2.68               9.0         111     5000       21   \n",
       "2       2.68    3.47               9.0         154     5000       19   \n",
       "3       3.19    3.40              10.0         102     5500       24   \n",
       "4       3.19    3.40               8.0         115     5500       18   \n",
       "\n",
       "   highwaympg    price  \n",
       "0          27  13495.0  \n",
       "1          27  16500.0  \n",
       "2          26  16500.0  \n",
       "3          30  13950.0  \n",
       "4          22  17450.0  "
      ]
     },
     "execution_count": 4,
     "metadata": {},
     "output_type": "execute_result"
    }
   ],
   "source": [
    "# Looking at the first five rows\n",
    "pd.set_option('display.max_columns', 40)\n",
    "car_df.head()"
   ]
  },
  {
   "cell_type": "code",
   "execution_count": 5,
   "metadata": {},
   "outputs": [
    {
     "data": {
      "text/plain": [
       "(205, 26)"
      ]
     },
     "execution_count": 5,
     "metadata": {},
     "output_type": "execute_result"
    }
   ],
   "source": [
    "car_df.shape"
   ]
  },
  {
   "cell_type": "code",
   "execution_count": 6,
   "metadata": {},
   "outputs": [
    {
     "name": "stdout",
     "output_type": "stream",
     "text": [
      "<class 'pandas.core.frame.DataFrame'>\n",
      "RangeIndex: 205 entries, 0 to 204\n",
      "Data columns (total 26 columns):\n",
      " #   Column            Non-Null Count  Dtype  \n",
      "---  ------            --------------  -----  \n",
      " 0   car_ID            205 non-null    int64  \n",
      " 1   symboling         205 non-null    int64  \n",
      " 2   CarName           205 non-null    object \n",
      " 3   fueltype          205 non-null    object \n",
      " 4   aspiration        205 non-null    object \n",
      " 5   doornumber        205 non-null    object \n",
      " 6   carbody           205 non-null    object \n",
      " 7   drivewheel        205 non-null    object \n",
      " 8   enginelocation    205 non-null    object \n",
      " 9   wheelbase         205 non-null    float64\n",
      " 10  carlength         205 non-null    float64\n",
      " 11  carwidth          205 non-null    float64\n",
      " 12  carheight         205 non-null    float64\n",
      " 13  curbweight        205 non-null    int64  \n",
      " 14  enginetype        205 non-null    object \n",
      " 15  cylindernumber    205 non-null    object \n",
      " 16  enginesize        205 non-null    int64  \n",
      " 17  fuelsystem        205 non-null    object \n",
      " 18  boreratio         205 non-null    float64\n",
      " 19  stroke            205 non-null    float64\n",
      " 20  compressionratio  205 non-null    float64\n",
      " 21  horsepower        205 non-null    int64  \n",
      " 22  peakrpm           205 non-null    int64  \n",
      " 23  citympg           205 non-null    int64  \n",
      " 24  highwaympg        205 non-null    int64  \n",
      " 25  price             205 non-null    float64\n",
      "dtypes: float64(8), int64(8), object(10)\n",
      "memory usage: 41.8+ KB\n"
     ]
    }
   ],
   "source": [
    "car_df.info()"
   ]
  },
  {
   "cell_type": "code",
   "execution_count": 7,
   "metadata": {},
   "outputs": [
    {
     "data": {
      "text/html": [
       "<div>\n",
       "<style scoped>\n",
       "    .dataframe tbody tr th:only-of-type {\n",
       "        vertical-align: middle;\n",
       "    }\n",
       "\n",
       "    .dataframe tbody tr th {\n",
       "        vertical-align: top;\n",
       "    }\n",
       "\n",
       "    .dataframe thead th {\n",
       "        text-align: right;\n",
       "    }\n",
       "</style>\n",
       "<table border=\"1\" class=\"dataframe\">\n",
       "  <thead>\n",
       "    <tr style=\"text-align: right;\">\n",
       "      <th></th>\n",
       "      <th>car_ID</th>\n",
       "      <th>symboling</th>\n",
       "      <th>wheelbase</th>\n",
       "      <th>carlength</th>\n",
       "      <th>carwidth</th>\n",
       "      <th>carheight</th>\n",
       "      <th>curbweight</th>\n",
       "      <th>enginesize</th>\n",
       "      <th>boreratio</th>\n",
       "      <th>stroke</th>\n",
       "      <th>compressionratio</th>\n",
       "      <th>horsepower</th>\n",
       "      <th>peakrpm</th>\n",
       "      <th>citympg</th>\n",
       "      <th>highwaympg</th>\n",
       "      <th>price</th>\n",
       "    </tr>\n",
       "  </thead>\n",
       "  <tbody>\n",
       "    <tr>\n",
       "      <th>count</th>\n",
       "      <td>205.000000</td>\n",
       "      <td>205.000000</td>\n",
       "      <td>205.000000</td>\n",
       "      <td>205.000000</td>\n",
       "      <td>205.000000</td>\n",
       "      <td>205.000000</td>\n",
       "      <td>205.000000</td>\n",
       "      <td>205.000000</td>\n",
       "      <td>205.000000</td>\n",
       "      <td>205.000000</td>\n",
       "      <td>205.000000</td>\n",
       "      <td>205.000000</td>\n",
       "      <td>205.000000</td>\n",
       "      <td>205.000000</td>\n",
       "      <td>205.000000</td>\n",
       "      <td>205.000000</td>\n",
       "    </tr>\n",
       "    <tr>\n",
       "      <th>mean</th>\n",
       "      <td>103.000000</td>\n",
       "      <td>0.834146</td>\n",
       "      <td>98.756585</td>\n",
       "      <td>174.049268</td>\n",
       "      <td>65.907805</td>\n",
       "      <td>53.724878</td>\n",
       "      <td>2555.565854</td>\n",
       "      <td>126.907317</td>\n",
       "      <td>3.329756</td>\n",
       "      <td>3.255415</td>\n",
       "      <td>10.142537</td>\n",
       "      <td>104.117073</td>\n",
       "      <td>5125.121951</td>\n",
       "      <td>25.219512</td>\n",
       "      <td>30.751220</td>\n",
       "      <td>13276.710571</td>\n",
       "    </tr>\n",
       "    <tr>\n",
       "      <th>std</th>\n",
       "      <td>59.322565</td>\n",
       "      <td>1.245307</td>\n",
       "      <td>6.021776</td>\n",
       "      <td>12.337289</td>\n",
       "      <td>2.145204</td>\n",
       "      <td>2.443522</td>\n",
       "      <td>520.680204</td>\n",
       "      <td>41.642693</td>\n",
       "      <td>0.270844</td>\n",
       "      <td>0.313597</td>\n",
       "      <td>3.972040</td>\n",
       "      <td>39.544167</td>\n",
       "      <td>476.985643</td>\n",
       "      <td>6.542142</td>\n",
       "      <td>6.886443</td>\n",
       "      <td>7988.852332</td>\n",
       "    </tr>\n",
       "    <tr>\n",
       "      <th>min</th>\n",
       "      <td>1.000000</td>\n",
       "      <td>-2.000000</td>\n",
       "      <td>86.600000</td>\n",
       "      <td>141.100000</td>\n",
       "      <td>60.300000</td>\n",
       "      <td>47.800000</td>\n",
       "      <td>1488.000000</td>\n",
       "      <td>61.000000</td>\n",
       "      <td>2.540000</td>\n",
       "      <td>2.070000</td>\n",
       "      <td>7.000000</td>\n",
       "      <td>48.000000</td>\n",
       "      <td>4150.000000</td>\n",
       "      <td>13.000000</td>\n",
       "      <td>16.000000</td>\n",
       "      <td>5118.000000</td>\n",
       "    </tr>\n",
       "    <tr>\n",
       "      <th>25%</th>\n",
       "      <td>52.000000</td>\n",
       "      <td>0.000000</td>\n",
       "      <td>94.500000</td>\n",
       "      <td>166.300000</td>\n",
       "      <td>64.100000</td>\n",
       "      <td>52.000000</td>\n",
       "      <td>2145.000000</td>\n",
       "      <td>97.000000</td>\n",
       "      <td>3.150000</td>\n",
       "      <td>3.110000</td>\n",
       "      <td>8.600000</td>\n",
       "      <td>70.000000</td>\n",
       "      <td>4800.000000</td>\n",
       "      <td>19.000000</td>\n",
       "      <td>25.000000</td>\n",
       "      <td>7788.000000</td>\n",
       "    </tr>\n",
       "    <tr>\n",
       "      <th>50%</th>\n",
       "      <td>103.000000</td>\n",
       "      <td>1.000000</td>\n",
       "      <td>97.000000</td>\n",
       "      <td>173.200000</td>\n",
       "      <td>65.500000</td>\n",
       "      <td>54.100000</td>\n",
       "      <td>2414.000000</td>\n",
       "      <td>120.000000</td>\n",
       "      <td>3.310000</td>\n",
       "      <td>3.290000</td>\n",
       "      <td>9.000000</td>\n",
       "      <td>95.000000</td>\n",
       "      <td>5200.000000</td>\n",
       "      <td>24.000000</td>\n",
       "      <td>30.000000</td>\n",
       "      <td>10295.000000</td>\n",
       "    </tr>\n",
       "    <tr>\n",
       "      <th>75%</th>\n",
       "      <td>154.000000</td>\n",
       "      <td>2.000000</td>\n",
       "      <td>102.400000</td>\n",
       "      <td>183.100000</td>\n",
       "      <td>66.900000</td>\n",
       "      <td>55.500000</td>\n",
       "      <td>2935.000000</td>\n",
       "      <td>141.000000</td>\n",
       "      <td>3.580000</td>\n",
       "      <td>3.410000</td>\n",
       "      <td>9.400000</td>\n",
       "      <td>116.000000</td>\n",
       "      <td>5500.000000</td>\n",
       "      <td>30.000000</td>\n",
       "      <td>34.000000</td>\n",
       "      <td>16503.000000</td>\n",
       "    </tr>\n",
       "    <tr>\n",
       "      <th>max</th>\n",
       "      <td>205.000000</td>\n",
       "      <td>3.000000</td>\n",
       "      <td>120.900000</td>\n",
       "      <td>208.100000</td>\n",
       "      <td>72.300000</td>\n",
       "      <td>59.800000</td>\n",
       "      <td>4066.000000</td>\n",
       "      <td>326.000000</td>\n",
       "      <td>3.940000</td>\n",
       "      <td>4.170000</td>\n",
       "      <td>23.000000</td>\n",
       "      <td>288.000000</td>\n",
       "      <td>6600.000000</td>\n",
       "      <td>49.000000</td>\n",
       "      <td>54.000000</td>\n",
       "      <td>45400.000000</td>\n",
       "    </tr>\n",
       "  </tbody>\n",
       "</table>\n",
       "</div>"
      ],
      "text/plain": [
       "           car_ID   symboling   wheelbase   carlength    carwidth   carheight  \\\n",
       "count  205.000000  205.000000  205.000000  205.000000  205.000000  205.000000   \n",
       "mean   103.000000    0.834146   98.756585  174.049268   65.907805   53.724878   \n",
       "std     59.322565    1.245307    6.021776   12.337289    2.145204    2.443522   \n",
       "min      1.000000   -2.000000   86.600000  141.100000   60.300000   47.800000   \n",
       "25%     52.000000    0.000000   94.500000  166.300000   64.100000   52.000000   \n",
       "50%    103.000000    1.000000   97.000000  173.200000   65.500000   54.100000   \n",
       "75%    154.000000    2.000000  102.400000  183.100000   66.900000   55.500000   \n",
       "max    205.000000    3.000000  120.900000  208.100000   72.300000   59.800000   \n",
       "\n",
       "        curbweight  enginesize   boreratio      stroke  compressionratio  \\\n",
       "count   205.000000  205.000000  205.000000  205.000000        205.000000   \n",
       "mean   2555.565854  126.907317    3.329756    3.255415         10.142537   \n",
       "std     520.680204   41.642693    0.270844    0.313597          3.972040   \n",
       "min    1488.000000   61.000000    2.540000    2.070000          7.000000   \n",
       "25%    2145.000000   97.000000    3.150000    3.110000          8.600000   \n",
       "50%    2414.000000  120.000000    3.310000    3.290000          9.000000   \n",
       "75%    2935.000000  141.000000    3.580000    3.410000          9.400000   \n",
       "max    4066.000000  326.000000    3.940000    4.170000         23.000000   \n",
       "\n",
       "       horsepower      peakrpm     citympg  highwaympg         price  \n",
       "count  205.000000   205.000000  205.000000  205.000000    205.000000  \n",
       "mean   104.117073  5125.121951   25.219512   30.751220  13276.710571  \n",
       "std     39.544167   476.985643    6.542142    6.886443   7988.852332  \n",
       "min     48.000000  4150.000000   13.000000   16.000000   5118.000000  \n",
       "25%     70.000000  4800.000000   19.000000   25.000000   7788.000000  \n",
       "50%     95.000000  5200.000000   24.000000   30.000000  10295.000000  \n",
       "75%    116.000000  5500.000000   30.000000   34.000000  16503.000000  \n",
       "max    288.000000  6600.000000   49.000000   54.000000  45400.000000  "
      ]
     },
     "execution_count": 7,
     "metadata": {},
     "output_type": "execute_result"
    }
   ],
   "source": [
    "car_df.describe()"
   ]
  },
  {
   "cell_type": "markdown",
   "metadata": {},
   "source": [
    "#### Some data cleaning/correctios are required on Categorical variables before we viasualise Categorical variable with Price.\n",
    " - Correct the Car Model Names in CarName variable\n",
    " - Correct the typo in drivewheel variable\n",
    " - Extract only the Car Model Name in CarName variable"
   ]
  },
  {
   "cell_type": "code",
   "execution_count": 11,
   "metadata": {},
   "outputs": [],
   "source": [
    "def def_name(x):\n",
    "    if   ((x == 'vw') or (x == 'vokswagen')):\n",
    "        return \"volkswagen\"\n",
    "    elif x == 'Nissan':\n",
    "        return \"nissan\"\n",
    "    elif x == 'toyouta':\n",
    "        return \"toyota\"\n",
    "    elif x == 'porcshce':\n",
    "        return \"porsche\"\n",
    "    elif x == 'maxda':\n",
    "        return \"mazda\"\n",
    "    else:\n",
    "        return x"
   ]
  },
  {
   "cell_type": "code",
   "execution_count": 12,
   "metadata": {},
   "outputs": [],
   "source": [
    "car_df['CarName'] = car_df['CarName'].apply(def_name)"
   ]
  },
  {
   "cell_type": "code",
   "execution_count": 13,
   "metadata": {},
   "outputs": [],
   "source": [
    "car_df['CarName'] = car_df.CarName.str.split(' ').str[0]"
   ]
  },
  {
   "cell_type": "code",
   "execution_count": 14,
   "metadata": {},
   "outputs": [
    {
     "name": "stdout",
     "output_type": "stream",
     "text": [
      "four      159\n",
      "six        24\n",
      "five       11\n",
      "eight       5\n",
      "two         4\n",
      "three       1\n",
      "twelve      1\n",
      "Name: cylindernumber, dtype: int64\n",
      "four    115\n",
      "two      90\n",
      "Name: doornumber, dtype: int64\n"
     ]
    }
   ],
   "source": [
    "print(car_df['cylindernumber'].value_counts())\n",
    "print(car_df['doornumber'].value_counts())"
   ]
  },
  {
   "cell_type": "code",
   "execution_count": 15,
   "metadata": {},
   "outputs": [],
   "source": [
    "# A function to map the categorical levels to actual numbers. You can see the categorical levels above and use them for mapping.\n",
    "def num_map(x):\n",
    "    return x.map({'two': 2, \"three\": 3, \"four\": 4, \"five\": 5, \"six\": 6, \"eight\": 8, \"twelve\": 12})\n",
    "# Applying the function to the two columns\n",
    "car_df[['cylindernumber', 'doornumber']] = car_df[['cylindernumber', 'doornumber']].apply(num_map)"
   ]
  },
  {
   "cell_type": "code",
   "execution_count": 16,
   "metadata": {},
   "outputs": [],
   "source": [
    "#Average Miliege - - Combine citympg & highwaympg into one variable by taking average of two as Average Miliege.\n",
    "car_df['avgmiliege'] = ((car_df['citympg'] + car_df['highwaympg'])/2).astype('int')"
   ]
  },
  {
   "cell_type": "code",
   "execution_count": 17,
   "metadata": {},
   "outputs": [],
   "source": [
    "# Drop the 'car_ID' column\n",
    "car_df.drop(['citympg','highwaympg'], axis = 1, inplace = True)"
   ]
  },
  {
   "cell_type": "code",
   "execution_count": 18,
   "metadata": {},
   "outputs": [
    {
     "data": {
      "text/html": [
       "<div>\n",
       "<style scoped>\n",
       "    .dataframe tbody tr th:only-of-type {\n",
       "        vertical-align: middle;\n",
       "    }\n",
       "\n",
       "    .dataframe tbody tr th {\n",
       "        vertical-align: top;\n",
       "    }\n",
       "\n",
       "    .dataframe thead th {\n",
       "        text-align: right;\n",
       "    }\n",
       "</style>\n",
       "<table border=\"1\" class=\"dataframe\">\n",
       "  <thead>\n",
       "    <tr style=\"text-align: right;\">\n",
       "      <th></th>\n",
       "      <th>car_ID</th>\n",
       "      <th>symboling</th>\n",
       "      <th>CarName</th>\n",
       "      <th>fueltype</th>\n",
       "      <th>aspiration</th>\n",
       "      <th>doornumber</th>\n",
       "      <th>carbody</th>\n",
       "      <th>drivewheel</th>\n",
       "      <th>enginelocation</th>\n",
       "      <th>wheelbase</th>\n",
       "      <th>carlength</th>\n",
       "      <th>carwidth</th>\n",
       "      <th>carheight</th>\n",
       "      <th>curbweight</th>\n",
       "      <th>enginetype</th>\n",
       "      <th>cylindernumber</th>\n",
       "      <th>enginesize</th>\n",
       "      <th>fuelsystem</th>\n",
       "      <th>boreratio</th>\n",
       "      <th>stroke</th>\n",
       "      <th>compressionratio</th>\n",
       "      <th>horsepower</th>\n",
       "      <th>peakrpm</th>\n",
       "      <th>price</th>\n",
       "      <th>avgmiliege</th>\n",
       "    </tr>\n",
       "  </thead>\n",
       "  <tbody>\n",
       "    <tr>\n",
       "      <th>0</th>\n",
       "      <td>1</td>\n",
       "      <td>3</td>\n",
       "      <td>alfa-romero</td>\n",
       "      <td>gas</td>\n",
       "      <td>std</td>\n",
       "      <td>2</td>\n",
       "      <td>convertible</td>\n",
       "      <td>rwd</td>\n",
       "      <td>front</td>\n",
       "      <td>88.6</td>\n",
       "      <td>168.8</td>\n",
       "      <td>64.1</td>\n",
       "      <td>48.8</td>\n",
       "      <td>2548</td>\n",
       "      <td>dohc</td>\n",
       "      <td>4</td>\n",
       "      <td>130</td>\n",
       "      <td>mpfi</td>\n",
       "      <td>3.47</td>\n",
       "      <td>2.68</td>\n",
       "      <td>9.0</td>\n",
       "      <td>111</td>\n",
       "      <td>5000</td>\n",
       "      <td>13495.0</td>\n",
       "      <td>24</td>\n",
       "    </tr>\n",
       "    <tr>\n",
       "      <th>1</th>\n",
       "      <td>2</td>\n",
       "      <td>3</td>\n",
       "      <td>alfa-romero</td>\n",
       "      <td>gas</td>\n",
       "      <td>std</td>\n",
       "      <td>2</td>\n",
       "      <td>convertible</td>\n",
       "      <td>rwd</td>\n",
       "      <td>front</td>\n",
       "      <td>88.6</td>\n",
       "      <td>168.8</td>\n",
       "      <td>64.1</td>\n",
       "      <td>48.8</td>\n",
       "      <td>2548</td>\n",
       "      <td>dohc</td>\n",
       "      <td>4</td>\n",
       "      <td>130</td>\n",
       "      <td>mpfi</td>\n",
       "      <td>3.47</td>\n",
       "      <td>2.68</td>\n",
       "      <td>9.0</td>\n",
       "      <td>111</td>\n",
       "      <td>5000</td>\n",
       "      <td>16500.0</td>\n",
       "      <td>24</td>\n",
       "    </tr>\n",
       "    <tr>\n",
       "      <th>2</th>\n",
       "      <td>3</td>\n",
       "      <td>1</td>\n",
       "      <td>alfa-romero</td>\n",
       "      <td>gas</td>\n",
       "      <td>std</td>\n",
       "      <td>2</td>\n",
       "      <td>hatchback</td>\n",
       "      <td>rwd</td>\n",
       "      <td>front</td>\n",
       "      <td>94.5</td>\n",
       "      <td>171.2</td>\n",
       "      <td>65.5</td>\n",
       "      <td>52.4</td>\n",
       "      <td>2823</td>\n",
       "      <td>ohcv</td>\n",
       "      <td>6</td>\n",
       "      <td>152</td>\n",
       "      <td>mpfi</td>\n",
       "      <td>2.68</td>\n",
       "      <td>3.47</td>\n",
       "      <td>9.0</td>\n",
       "      <td>154</td>\n",
       "      <td>5000</td>\n",
       "      <td>16500.0</td>\n",
       "      <td>22</td>\n",
       "    </tr>\n",
       "    <tr>\n",
       "      <th>3</th>\n",
       "      <td>4</td>\n",
       "      <td>2</td>\n",
       "      <td>audi</td>\n",
       "      <td>gas</td>\n",
       "      <td>std</td>\n",
       "      <td>4</td>\n",
       "      <td>sedan</td>\n",
       "      <td>fwd</td>\n",
       "      <td>front</td>\n",
       "      <td>99.8</td>\n",
       "      <td>176.6</td>\n",
       "      <td>66.2</td>\n",
       "      <td>54.3</td>\n",
       "      <td>2337</td>\n",
       "      <td>ohc</td>\n",
       "      <td>4</td>\n",
       "      <td>109</td>\n",
       "      <td>mpfi</td>\n",
       "      <td>3.19</td>\n",
       "      <td>3.40</td>\n",
       "      <td>10.0</td>\n",
       "      <td>102</td>\n",
       "      <td>5500</td>\n",
       "      <td>13950.0</td>\n",
       "      <td>27</td>\n",
       "    </tr>\n",
       "    <tr>\n",
       "      <th>4</th>\n",
       "      <td>5</td>\n",
       "      <td>2</td>\n",
       "      <td>audi</td>\n",
       "      <td>gas</td>\n",
       "      <td>std</td>\n",
       "      <td>4</td>\n",
       "      <td>sedan</td>\n",
       "      <td>4wd</td>\n",
       "      <td>front</td>\n",
       "      <td>99.4</td>\n",
       "      <td>176.6</td>\n",
       "      <td>66.4</td>\n",
       "      <td>54.3</td>\n",
       "      <td>2824</td>\n",
       "      <td>ohc</td>\n",
       "      <td>5</td>\n",
       "      <td>136</td>\n",
       "      <td>mpfi</td>\n",
       "      <td>3.19</td>\n",
       "      <td>3.40</td>\n",
       "      <td>8.0</td>\n",
       "      <td>115</td>\n",
       "      <td>5500</td>\n",
       "      <td>17450.0</td>\n",
       "      <td>20</td>\n",
       "    </tr>\n",
       "  </tbody>\n",
       "</table>\n",
       "</div>"
      ],
      "text/plain": [
       "   car_ID  symboling      CarName fueltype aspiration  doornumber  \\\n",
       "0       1          3  alfa-romero      gas        std           2   \n",
       "1       2          3  alfa-romero      gas        std           2   \n",
       "2       3          1  alfa-romero      gas        std           2   \n",
       "3       4          2         audi      gas        std           4   \n",
       "4       5          2         audi      gas        std           4   \n",
       "\n",
       "       carbody drivewheel enginelocation  wheelbase  carlength  carwidth  \\\n",
       "0  convertible        rwd          front       88.6      168.8      64.1   \n",
       "1  convertible        rwd          front       88.6      168.8      64.1   \n",
       "2    hatchback        rwd          front       94.5      171.2      65.5   \n",
       "3        sedan        fwd          front       99.8      176.6      66.2   \n",
       "4        sedan        4wd          front       99.4      176.6      66.4   \n",
       "\n",
       "   carheight  curbweight enginetype  cylindernumber  enginesize fuelsystem  \\\n",
       "0       48.8        2548       dohc               4         130       mpfi   \n",
       "1       48.8        2548       dohc               4         130       mpfi   \n",
       "2       52.4        2823       ohcv               6         152       mpfi   \n",
       "3       54.3        2337        ohc               4         109       mpfi   \n",
       "4       54.3        2824        ohc               5         136       mpfi   \n",
       "\n",
       "   boreratio  stroke  compressionratio  horsepower  peakrpm    price  \\\n",
       "0       3.47    2.68               9.0         111     5000  13495.0   \n",
       "1       3.47    2.68               9.0         111     5000  16500.0   \n",
       "2       2.68    3.47               9.0         154     5000  16500.0   \n",
       "3       3.19    3.40              10.0         102     5500  13950.0   \n",
       "4       3.19    3.40               8.0         115     5500  17450.0   \n",
       "\n",
       "   avgmiliege  \n",
       "0          24  \n",
       "1          24  \n",
       "2          22  \n",
       "3          27  \n",
       "4          20  "
      ]
     },
     "execution_count": 18,
     "metadata": {},
     "output_type": "execute_result"
    }
   ],
   "source": [
    "car_df.head()"
   ]
  },
  {
   "cell_type": "markdown",
   "metadata": {},
   "source": [
    "## Step 2: Visualising the Data. (Univariate an Bivariate Analysis)\n",
    "*********************************************************************************\n",
    "\n",
    "- If there is some obvious multicollinearity going on, this is the first place to catch it\n",
    "- Here's where you'll also identify if some predictors directly have a strong association with the outcome variable\n"
   ]
  },
  {
   "cell_type": "markdown",
   "metadata": {},
   "source": [
    "#### Visualising Numeric Variables\n",
    "\n",
    "Let's make a pairplot of all the numeric variables"
   ]
  },
  {
   "cell_type": "markdown",
   "metadata": {},
   "source": [
    "#### Split the car_df into two part for visualising Numerical variables to get someinsights. "
   ]
  },
  {
   "cell_type": "code",
   "execution_count": 19,
   "metadata": {},
   "outputs": [],
   "source": [
    "col_num = []\n",
    "col_cat = []\n",
    "for col in list(car_df.columns):     \n",
    "    if (car_df[col].dtype) == 'O':\n",
    "        col_cat.append(col)\n",
    "    else:\n",
    "        col_num.append(col)"
   ]
  },
  {
   "cell_type": "code",
   "execution_count": 20,
   "metadata": {},
   "outputs": [
    {
     "data": {
      "text/plain": [
       "'car_ID'"
      ]
     },
     "execution_count": 20,
     "metadata": {},
     "output_type": "execute_result"
    }
   ],
   "source": [
    "col_num.pop(0)"
   ]
  },
  {
   "cell_type": "code",
   "execution_count": 21,
   "metadata": {},
   "outputs": [
    {
     "data": {
      "text/html": [
       "<div>\n",
       "<style scoped>\n",
       "    .dataframe tbody tr th:only-of-type {\n",
       "        vertical-align: middle;\n",
       "    }\n",
       "\n",
       "    .dataframe tbody tr th {\n",
       "        vertical-align: top;\n",
       "    }\n",
       "\n",
       "    .dataframe thead th {\n",
       "        text-align: right;\n",
       "    }\n",
       "</style>\n",
       "<table border=\"1\" class=\"dataframe\">\n",
       "  <thead>\n",
       "    <tr style=\"text-align: right;\">\n",
       "      <th></th>\n",
       "      <th>symboling</th>\n",
       "      <th>doornumber</th>\n",
       "      <th>wheelbase</th>\n",
       "      <th>carlength</th>\n",
       "      <th>carwidth</th>\n",
       "      <th>carheight</th>\n",
       "      <th>curbweight</th>\n",
       "      <th>cylindernumber</th>\n",
       "      <th>enginesize</th>\n",
       "      <th>boreratio</th>\n",
       "      <th>stroke</th>\n",
       "      <th>compressionratio</th>\n",
       "      <th>horsepower</th>\n",
       "      <th>peakrpm</th>\n",
       "      <th>price</th>\n",
       "      <th>avgmiliege</th>\n",
       "    </tr>\n",
       "  </thead>\n",
       "  <tbody>\n",
       "    <tr>\n",
       "      <th>symboling</th>\n",
       "      <td>1.000000</td>\n",
       "      <td>-0.664073</td>\n",
       "      <td>-0.531954</td>\n",
       "      <td>-0.357612</td>\n",
       "      <td>-0.232919</td>\n",
       "      <td>-0.541038</td>\n",
       "      <td>-0.227691</td>\n",
       "      <td>-0.113129</td>\n",
       "      <td>-0.105790</td>\n",
       "      <td>-0.130051</td>\n",
       "      <td>-0.008735</td>\n",
       "      <td>-0.178515</td>\n",
       "      <td>0.070873</td>\n",
       "      <td>0.273606</td>\n",
       "      <td>-0.079978</td>\n",
       "      <td>0.001510</td>\n",
       "    </tr>\n",
       "    <tr>\n",
       "      <th>doornumber</th>\n",
       "      <td>-0.664073</td>\n",
       "      <td>1.000000</td>\n",
       "      <td>0.447357</td>\n",
       "      <td>0.398568</td>\n",
       "      <td>0.207168</td>\n",
       "      <td>0.552208</td>\n",
       "      <td>0.197379</td>\n",
       "      <td>-0.016009</td>\n",
       "      <td>0.020742</td>\n",
       "      <td>0.119258</td>\n",
       "      <td>-0.011082</td>\n",
       "      <td>0.177888</td>\n",
       "      <td>-0.126947</td>\n",
       "      <td>-0.247668</td>\n",
       "      <td>0.031835</td>\n",
       "      <td>-0.029731</td>\n",
       "    </tr>\n",
       "    <tr>\n",
       "      <th>wheelbase</th>\n",
       "      <td>-0.531954</td>\n",
       "      <td>0.447357</td>\n",
       "      <td>1.000000</td>\n",
       "      <td>0.874587</td>\n",
       "      <td>0.795144</td>\n",
       "      <td>0.589435</td>\n",
       "      <td>0.776386</td>\n",
       "      <td>0.339507</td>\n",
       "      <td>0.569329</td>\n",
       "      <td>0.488750</td>\n",
       "      <td>0.160959</td>\n",
       "      <td>0.249786</td>\n",
       "      <td>0.353294</td>\n",
       "      <td>-0.360469</td>\n",
       "      <td>0.577816</td>\n",
       "      <td>-0.514574</td>\n",
       "    </tr>\n",
       "    <tr>\n",
       "      <th>carlength</th>\n",
       "      <td>-0.357612</td>\n",
       "      <td>0.398568</td>\n",
       "      <td>0.874587</td>\n",
       "      <td>1.000000</td>\n",
       "      <td>0.841118</td>\n",
       "      <td>0.491029</td>\n",
       "      <td>0.877728</td>\n",
       "      <td>0.430672</td>\n",
       "      <td>0.683360</td>\n",
       "      <td>0.606454</td>\n",
       "      <td>0.129533</td>\n",
       "      <td>0.158414</td>\n",
       "      <td>0.552623</td>\n",
       "      <td>-0.287242</td>\n",
       "      <td>0.682920</td>\n",
       "      <td>-0.695307</td>\n",
       "    </tr>\n",
       "    <tr>\n",
       "      <th>carwidth</th>\n",
       "      <td>-0.232919</td>\n",
       "      <td>0.207168</td>\n",
       "      <td>0.795144</td>\n",
       "      <td>0.841118</td>\n",
       "      <td>1.000000</td>\n",
       "      <td>0.279210</td>\n",
       "      <td>0.867032</td>\n",
       "      <td>0.545007</td>\n",
       "      <td>0.735433</td>\n",
       "      <td>0.559150</td>\n",
       "      <td>0.182942</td>\n",
       "      <td>0.181129</td>\n",
       "      <td>0.640732</td>\n",
       "      <td>-0.220012</td>\n",
       "      <td>0.759325</td>\n",
       "      <td>-0.667332</td>\n",
       "    </tr>\n",
       "    <tr>\n",
       "      <th>carheight</th>\n",
       "      <td>-0.541038</td>\n",
       "      <td>0.552208</td>\n",
       "      <td>0.589435</td>\n",
       "      <td>0.491029</td>\n",
       "      <td>0.279210</td>\n",
       "      <td>1.000000</td>\n",
       "      <td>0.295572</td>\n",
       "      <td>-0.013995</td>\n",
       "      <td>0.067149</td>\n",
       "      <td>0.171071</td>\n",
       "      <td>-0.055307</td>\n",
       "      <td>0.261214</td>\n",
       "      <td>-0.108802</td>\n",
       "      <td>-0.320411</td>\n",
       "      <td>0.119336</td>\n",
       "      <td>-0.083091</td>\n",
       "    </tr>\n",
       "    <tr>\n",
       "      <th>curbweight</th>\n",
       "      <td>-0.227691</td>\n",
       "      <td>0.197379</td>\n",
       "      <td>0.776386</td>\n",
       "      <td>0.877728</td>\n",
       "      <td>0.867032</td>\n",
       "      <td>0.295572</td>\n",
       "      <td>1.000000</td>\n",
       "      <td>0.609727</td>\n",
       "      <td>0.850594</td>\n",
       "      <td>0.648480</td>\n",
       "      <td>0.168790</td>\n",
       "      <td>0.151362</td>\n",
       "      <td>0.750739</td>\n",
       "      <td>-0.266243</td>\n",
       "      <td>0.835305</td>\n",
       "      <td>-0.785521</td>\n",
       "    </tr>\n",
       "    <tr>\n",
       "      <th>cylindernumber</th>\n",
       "      <td>-0.113129</td>\n",
       "      <td>-0.016009</td>\n",
       "      <td>0.339507</td>\n",
       "      <td>0.430672</td>\n",
       "      <td>0.545007</td>\n",
       "      <td>-0.013995</td>\n",
       "      <td>0.609727</td>\n",
       "      <td>1.000000</td>\n",
       "      <td>0.846031</td>\n",
       "      <td>0.231399</td>\n",
       "      <td>0.008210</td>\n",
       "      <td>-0.020002</td>\n",
       "      <td>0.692016</td>\n",
       "      <td>-0.124172</td>\n",
       "      <td>0.718305</td>\n",
       "      <td>-0.458071</td>\n",
       "    </tr>\n",
       "    <tr>\n",
       "      <th>enginesize</th>\n",
       "      <td>-0.105790</td>\n",
       "      <td>0.020742</td>\n",
       "      <td>0.569329</td>\n",
       "      <td>0.683360</td>\n",
       "      <td>0.735433</td>\n",
       "      <td>0.067149</td>\n",
       "      <td>0.850594</td>\n",
       "      <td>0.846031</td>\n",
       "      <td>1.000000</td>\n",
       "      <td>0.583774</td>\n",
       "      <td>0.203129</td>\n",
       "      <td>0.028971</td>\n",
       "      <td>0.809769</td>\n",
       "      <td>-0.244660</td>\n",
       "      <td>0.874145</td>\n",
       "      <td>-0.667950</td>\n",
       "    </tr>\n",
       "    <tr>\n",
       "      <th>boreratio</th>\n",
       "      <td>-0.130051</td>\n",
       "      <td>0.119258</td>\n",
       "      <td>0.488750</td>\n",
       "      <td>0.606454</td>\n",
       "      <td>0.559150</td>\n",
       "      <td>0.171071</td>\n",
       "      <td>0.648480</td>\n",
       "      <td>0.231399</td>\n",
       "      <td>0.583774</td>\n",
       "      <td>1.000000</td>\n",
       "      <td>-0.055909</td>\n",
       "      <td>0.005197</td>\n",
       "      <td>0.573677</td>\n",
       "      <td>-0.254976</td>\n",
       "      <td>0.553173</td>\n",
       "      <td>-0.588604</td>\n",
       "    </tr>\n",
       "    <tr>\n",
       "      <th>stroke</th>\n",
       "      <td>-0.008735</td>\n",
       "      <td>-0.011082</td>\n",
       "      <td>0.160959</td>\n",
       "      <td>0.129533</td>\n",
       "      <td>0.182942</td>\n",
       "      <td>-0.055307</td>\n",
       "      <td>0.168790</td>\n",
       "      <td>0.008210</td>\n",
       "      <td>0.203129</td>\n",
       "      <td>-0.055909</td>\n",
       "      <td>1.000000</td>\n",
       "      <td>0.186110</td>\n",
       "      <td>0.080940</td>\n",
       "      <td>-0.067964</td>\n",
       "      <td>0.079443</td>\n",
       "      <td>-0.040055</td>\n",
       "    </tr>\n",
       "    <tr>\n",
       "      <th>compressionratio</th>\n",
       "      <td>-0.178515</td>\n",
       "      <td>0.177888</td>\n",
       "      <td>0.249786</td>\n",
       "      <td>0.158414</td>\n",
       "      <td>0.181129</td>\n",
       "      <td>0.261214</td>\n",
       "      <td>0.151362</td>\n",
       "      <td>-0.020002</td>\n",
       "      <td>0.028971</td>\n",
       "      <td>0.005197</td>\n",
       "      <td>0.186110</td>\n",
       "      <td>1.000000</td>\n",
       "      <td>-0.204326</td>\n",
       "      <td>-0.435741</td>\n",
       "      <td>0.067984</td>\n",
       "      <td>0.292525</td>\n",
       "    </tr>\n",
       "    <tr>\n",
       "      <th>horsepower</th>\n",
       "      <td>0.070873</td>\n",
       "      <td>-0.126947</td>\n",
       "      <td>0.353294</td>\n",
       "      <td>0.552623</td>\n",
       "      <td>0.640732</td>\n",
       "      <td>-0.108802</td>\n",
       "      <td>0.750739</td>\n",
       "      <td>0.692016</td>\n",
       "      <td>0.809769</td>\n",
       "      <td>0.573677</td>\n",
       "      <td>0.080940</td>\n",
       "      <td>-0.204326</td>\n",
       "      <td>1.000000</td>\n",
       "      <td>0.131073</td>\n",
       "      <td>0.808139</td>\n",
       "      <td>-0.790439</td>\n",
       "    </tr>\n",
       "    <tr>\n",
       "      <th>peakrpm</th>\n",
       "      <td>0.273606</td>\n",
       "      <td>-0.247668</td>\n",
       "      <td>-0.360469</td>\n",
       "      <td>-0.287242</td>\n",
       "      <td>-0.220012</td>\n",
       "      <td>-0.320411</td>\n",
       "      <td>-0.266243</td>\n",
       "      <td>-0.124172</td>\n",
       "      <td>-0.244660</td>\n",
       "      <td>-0.254976</td>\n",
       "      <td>-0.067964</td>\n",
       "      <td>-0.435741</td>\n",
       "      <td>0.131073</td>\n",
       "      <td>1.000000</td>\n",
       "      <td>-0.085267</td>\n",
       "      <td>-0.076525</td>\n",
       "    </tr>\n",
       "    <tr>\n",
       "      <th>price</th>\n",
       "      <td>-0.079978</td>\n",
       "      <td>0.031835</td>\n",
       "      <td>0.577816</td>\n",
       "      <td>0.682920</td>\n",
       "      <td>0.759325</td>\n",
       "      <td>0.119336</td>\n",
       "      <td>0.835305</td>\n",
       "      <td>0.718305</td>\n",
       "      <td>0.874145</td>\n",
       "      <td>0.553173</td>\n",
       "      <td>0.079443</td>\n",
       "      <td>0.067984</td>\n",
       "      <td>0.808139</td>\n",
       "      <td>-0.085267</td>\n",
       "      <td>1.000000</td>\n",
       "      <td>-0.694545</td>\n",
       "    </tr>\n",
       "    <tr>\n",
       "      <th>avgmiliege</th>\n",
       "      <td>0.001510</td>\n",
       "      <td>-0.029731</td>\n",
       "      <td>-0.514574</td>\n",
       "      <td>-0.695307</td>\n",
       "      <td>-0.667332</td>\n",
       "      <td>-0.083091</td>\n",
       "      <td>-0.785521</td>\n",
       "      <td>-0.458071</td>\n",
       "      <td>-0.667950</td>\n",
       "      <td>-0.588604</td>\n",
       "      <td>-0.040055</td>\n",
       "      <td>0.292525</td>\n",
       "      <td>-0.790439</td>\n",
       "      <td>-0.076525</td>\n",
       "      <td>-0.694545</td>\n",
       "      <td>1.000000</td>\n",
       "    </tr>\n",
       "  </tbody>\n",
       "</table>\n",
       "</div>"
      ],
      "text/plain": [
       "                  symboling  doornumber  wheelbase  carlength  carwidth  \\\n",
       "symboling          1.000000   -0.664073  -0.531954  -0.357612 -0.232919   \n",
       "doornumber        -0.664073    1.000000   0.447357   0.398568  0.207168   \n",
       "wheelbase         -0.531954    0.447357   1.000000   0.874587  0.795144   \n",
       "carlength         -0.357612    0.398568   0.874587   1.000000  0.841118   \n",
       "carwidth          -0.232919    0.207168   0.795144   0.841118  1.000000   \n",
       "carheight         -0.541038    0.552208   0.589435   0.491029  0.279210   \n",
       "curbweight        -0.227691    0.197379   0.776386   0.877728  0.867032   \n",
       "cylindernumber    -0.113129   -0.016009   0.339507   0.430672  0.545007   \n",
       "enginesize        -0.105790    0.020742   0.569329   0.683360  0.735433   \n",
       "boreratio         -0.130051    0.119258   0.488750   0.606454  0.559150   \n",
       "stroke            -0.008735   -0.011082   0.160959   0.129533  0.182942   \n",
       "compressionratio  -0.178515    0.177888   0.249786   0.158414  0.181129   \n",
       "horsepower         0.070873   -0.126947   0.353294   0.552623  0.640732   \n",
       "peakrpm            0.273606   -0.247668  -0.360469  -0.287242 -0.220012   \n",
       "price             -0.079978    0.031835   0.577816   0.682920  0.759325   \n",
       "avgmiliege         0.001510   -0.029731  -0.514574  -0.695307 -0.667332   \n",
       "\n",
       "                  carheight  curbweight  cylindernumber  enginesize  \\\n",
       "symboling         -0.541038   -0.227691       -0.113129   -0.105790   \n",
       "doornumber         0.552208    0.197379       -0.016009    0.020742   \n",
       "wheelbase          0.589435    0.776386        0.339507    0.569329   \n",
       "carlength          0.491029    0.877728        0.430672    0.683360   \n",
       "carwidth           0.279210    0.867032        0.545007    0.735433   \n",
       "carheight          1.000000    0.295572       -0.013995    0.067149   \n",
       "curbweight         0.295572    1.000000        0.609727    0.850594   \n",
       "cylindernumber    -0.013995    0.609727        1.000000    0.846031   \n",
       "enginesize         0.067149    0.850594        0.846031    1.000000   \n",
       "boreratio          0.171071    0.648480        0.231399    0.583774   \n",
       "stroke            -0.055307    0.168790        0.008210    0.203129   \n",
       "compressionratio   0.261214    0.151362       -0.020002    0.028971   \n",
       "horsepower        -0.108802    0.750739        0.692016    0.809769   \n",
       "peakrpm           -0.320411   -0.266243       -0.124172   -0.244660   \n",
       "price              0.119336    0.835305        0.718305    0.874145   \n",
       "avgmiliege        -0.083091   -0.785521       -0.458071   -0.667950   \n",
       "\n",
       "                  boreratio    stroke  compressionratio  horsepower   peakrpm  \\\n",
       "symboling         -0.130051 -0.008735         -0.178515    0.070873  0.273606   \n",
       "doornumber         0.119258 -0.011082          0.177888   -0.126947 -0.247668   \n",
       "wheelbase          0.488750  0.160959          0.249786    0.353294 -0.360469   \n",
       "carlength          0.606454  0.129533          0.158414    0.552623 -0.287242   \n",
       "carwidth           0.559150  0.182942          0.181129    0.640732 -0.220012   \n",
       "carheight          0.171071 -0.055307          0.261214   -0.108802 -0.320411   \n",
       "curbweight         0.648480  0.168790          0.151362    0.750739 -0.266243   \n",
       "cylindernumber     0.231399  0.008210         -0.020002    0.692016 -0.124172   \n",
       "enginesize         0.583774  0.203129          0.028971    0.809769 -0.244660   \n",
       "boreratio          1.000000 -0.055909          0.005197    0.573677 -0.254976   \n",
       "stroke            -0.055909  1.000000          0.186110    0.080940 -0.067964   \n",
       "compressionratio   0.005197  0.186110          1.000000   -0.204326 -0.435741   \n",
       "horsepower         0.573677  0.080940         -0.204326    1.000000  0.131073   \n",
       "peakrpm           -0.254976 -0.067964         -0.435741    0.131073  1.000000   \n",
       "price              0.553173  0.079443          0.067984    0.808139 -0.085267   \n",
       "avgmiliege        -0.588604 -0.040055          0.292525   -0.790439 -0.076525   \n",
       "\n",
       "                     price  avgmiliege  \n",
       "symboling        -0.079978    0.001510  \n",
       "doornumber        0.031835   -0.029731  \n",
       "wheelbase         0.577816   -0.514574  \n",
       "carlength         0.682920   -0.695307  \n",
       "carwidth          0.759325   -0.667332  \n",
       "carheight         0.119336   -0.083091  \n",
       "curbweight        0.835305   -0.785521  \n",
       "cylindernumber    0.718305   -0.458071  \n",
       "enginesize        0.874145   -0.667950  \n",
       "boreratio         0.553173   -0.588604  \n",
       "stroke            0.079443   -0.040055  \n",
       "compressionratio  0.067984    0.292525  \n",
       "horsepower        0.808139   -0.790439  \n",
       "peakrpm          -0.085267   -0.076525  \n",
       "price             1.000000   -0.694545  \n",
       "avgmiliege       -0.694545    1.000000  "
      ]
     },
     "execution_count": 21,
     "metadata": {},
     "output_type": "execute_result"
    }
   ],
   "source": [
    "# Correlation matrix\n",
    "cor = car_df[col_num].corr()\n",
    "cor"
   ]
  },
  {
   "cell_type": "code",
   "execution_count": 22,
   "metadata": {},
   "outputs": [
    {
     "data": {
      "image/png": "[encoded data removed]",
      "text/plain": [
       "<Figure size 1152x576 with 2 Axes>"
      ]
     },
     "metadata": {
      "needs_background": "light"
     },
     "output_type": "display_data"
    }
   ],
   "source": [
    "# Heatmap.\n",
    "# Figure size\n",
    "plt.figure(figsize=(16,8))\n",
    "sns.heatmap(cor, cmap=\"YlGnBu\", annot=True)\n",
    "plt.show()"
   ]
  },
  {
   "cell_type": "markdown",
   "metadata": {},
   "source": [
    "#### Observations from above two pair plots are:\n",
    "\n",
    "#### 1.Car Price is nicely associated with some predictor variables like \n",
    "-  carlength\n",
    "-  carwidth\n",
    "-  enginesize\n",
    "-  horsepower\n",
    "-  curbweight\n",
    "-  wheelbase\n",
    "\n",
    "#### 2.Car Price is weakly associated with some predictor variables like \n",
    "-  stroke\n",
    "-  compressionratio\n",
    "-  peakrpm\n",
    "-  carheight\n",
    "\n",
    "#### 3.Strong multicollinearity/correlation exists between citympg and highwaympg predictor variables about 84%.\n",
    "\n",
    "#### 4.Strong multicollinearity/correlation exists between curbweight and some predictor variables like \n",
    "-  carlength\n",
    "-  carwidth\n",
    "-  wheelbase\n",
    "-  borerratio\n",
    "\n",
    "#### 5.Predictor variable compressionratio is weakly associated/correlated with all of the predictor variables.\n",
    "\n",
    "#### 6. Inverse Correlation exists between Car Price and  \n",
    "-  citympg\n",
    "-  peakrpm\n",
    "-  symboling"
   ]
  },
  {
   "cell_type": "markdown",
   "metadata": {},
   "source": [
    "#### Visualizing the Price variable in the Dataset."
   ]
  },
  {
   "cell_type": "code",
   "execution_count": 23,
   "metadata": {},
   "outputs": [
    {
     "data": {
      "image/png": "[encoded data removed]",
      "text/plain": [
       "<Figure size 1440x576 with 2 Axes>"
      ]
     },
     "metadata": {
      "needs_background": "light"
     },
     "output_type": "display_data"
    }
   ],
   "source": [
    "plt.figure(figsize=(20,8))\n",
    "plt.subplot(1,2,1)\n",
    "plt.title('Distribution Plot')\n",
    "sns.distplot(car_df.price)\n",
    "plt.subplot(1,2,2)\n",
    "plt.title('Box Plot')\n",
    "sns.boxplot(y=car_df.price)\n",
    "plt.xlabel('Price')\n",
    "plt.show()"
   ]
  },
  {
   "cell_type": "code",
   "execution_count": 24,
   "metadata": {},
   "outputs": [
    {
     "data": {
      "text/plain": [
       "count      205.000000\n",
       "mean     13276.710571\n",
       "std       7988.852332\n",
       "min       5118.000000\n",
       "25%       7788.000000\n",
       "50%      10295.000000\n",
       "75%      16503.000000\n",
       "max      45400.000000\n",
       "Name: price, dtype: float64"
      ]
     },
     "execution_count": 24,
     "metadata": {},
     "output_type": "execute_result"
    }
   ],
   "source": [
    "car_df.price.describe()"
   ]
  },
  {
   "cell_type": "markdown",
   "metadata": {},
   "source": [
    "#### Observations from above visualisation on car price variable:\n",
    "1. The plot is right-skewed and most of the car proces are below 16000.\n",
    "2. There is a significant difference between the mean and the median of the price distribution.\n",
    "3. The data points sprreadout form mean, which indicates a high variance in the car prices.\n",
    "4. 75% of the prices are below 16,500 whereas the remaining 25% are between 16,500 and 45,400.\n",
    "\n"
   ]
  },
  {
   "cell_type": "markdown",
   "metadata": {},
   "source": [
    "#### Visualising Categorical Variables\n",
    "\n",
    "As you might have noticed, there are a few categorical variables as well. Let's visualize some of these variables."
   ]
  },
  {
   "cell_type": "code",
   "execution_count": 25,
   "metadata": {
    "scrolled": true
   },
   "outputs": [
    {
     "data": {
      "image/png": "[encoded data removed]",
      "text/plain": [
       "<Figure size 1080x360 with 1 Axes>"
      ]
     },
     "metadata": {
      "needs_background": "light"
     },
     "output_type": "display_data"
    },
    {
     "data": {
      "image/png": "[encoded data removed]",
      "text/plain": [
       "<Figure size 1080x360 with 1 Axes>"
      ]
     },
     "metadata": {
      "needs_background": "light"
     },
     "output_type": "display_data"
    },
    {
     "data": {
      "image/png": "[encoded data removed]",
      "text/plain": [
       "<Figure size 1080x360 with 1 Axes>"
      ]
     },
     "metadata": {
      "needs_background": "light"
     },
     "output_type": "display_data"
    },
    {
     "data": {
      "image/png": "[encoded data removed]",
      "text/plain": [
       "<Figure size 1080x360 with 1 Axes>"
      ]
     },
     "metadata": {
      "needs_background": "light"
     },
     "output_type": "display_data"
    },
    {
     "data": {
      "image/png": "[encoded data removed]",
      "text/plain": [
       "<Figure size 1080x360 with 1 Axes>"
      ]
     },
     "metadata": {
      "needs_background": "light"
     },
     "output_type": "display_data"
    },
    {
     "data": {
      "image/png": "[encoded data removed]",
      "text/plain": [
       "<Figure size 1080x360 with 1 Axes>"
      ]
     },
     "metadata": {
      "needs_background": "light"
     },
     "output_type": "display_data"
    },
    {
     "data": {
      "image/png": "[encoded data removed]",
      "text/plain": [
       "<Figure size 1080x360 with 1 Axes>"
      ]
     },
     "metadata": {
      "needs_background": "light"
     },
     "output_type": "display_data"
    },
    {
     "data": {
      "image/png": "[encoded data removed]",
      "text/plain": [
       "<Figure size 1080x360 with 1 Axes>"
      ]
     },
     "metadata": {
      "needs_background": "light"
     },
     "output_type": "display_data"
    }
   ],
   "source": [
    "for fet in col_cat:\n",
    "    fig, axs = plt.subplots(figsize = (15,5))\n",
    "    sns.countplot(car_df[fet], data = car_df)\n",
    "    plt.xlabel(fet)\n",
    "    plt.ylabel('Count of {}'.format(fet))\n",
    "    plt.title('Univariate Analysis on {}'.format(fet))\n",
    "    plt.xticks(rotation=90)\n",
    "    plt.yticks(rotation=0)\n",
    "    plt.show()"
   ]
  },
  {
   "cell_type": "code",
   "execution_count": 26,
   "metadata": {
    "scrolled": true
   },
   "outputs": [
    {
     "data": {
      "image/png": "[encoded data removed]",
      "text/plain": [
       "<Figure size 1080x360 with 1 Axes>"
      ]
     },
     "metadata": {
      "needs_background": "light"
     },
     "output_type": "display_data"
    },
    {
     "data": {
      "image/png": "[encoded data removed]",
      "text/plain": [
       "<Figure size 1080x360 with 1 Axes>"
      ]
     },
     "metadata": {
      "needs_background": "light"
     },
     "output_type": "display_data"
    },
    {
     "data": {
      "image/png": "[encoded data removed]",
      "text/plain": [
       "<Figure size 1080x360 with 1 Axes>"
      ]
     },
     "metadata": {
      "needs_background": "light"
     },
     "output_type": "display_data"
    },
    {
     "data": {
      "image/png": "[encoded data removed]",
      "text/plain": [
       "<Figure size 1080x360 with 1 Axes>"
      ]
     },
     "metadata": {
      "needs_background": "light"
     },
     "output_type": "display_data"
    },
    {
     "data": {
      "image/png": "[encoded data removed]",
      "text/plain": [
       "<Figure size 1080x360 with 1 Axes>"
      ]
     },
     "metadata": {
      "needs_background": "light"
     },
     "output_type": "display_data"
    },
    {
     "data": {
      "image/png": "[encoded data removed]",
      "text/plain": [
       "<Figure size 1080x360 with 1 Axes>"
      ]
     },
     "metadata": {
      "needs_background": "light"
     },
     "output_type": "display_data"
    },
    {
     "data": {
      "image/png": "[encoded data removed]",
      "text/plain": [
       "<Figure size 1080x360 with 1 Axes>"
      ]
     },
     "metadata": {
      "needs_background": "light"
     },
     "output_type": "display_data"
    },
    {
     "data": {
      "image/png": "[encoded data removed]",
      "text/plain": [
       "<Figure size 1080x360 with 1 Axes>"
      ]
     },
     "metadata": {
      "needs_background": "light"
     },
     "output_type": "display_data"
    }
   ],
   "source": [
    "for fet in col_cat:\n",
    "    fig, axs = plt.subplots(figsize = (15,5))\n",
    "    sns.boxplot(x=car_df[fet],y=car_df[\"price\"])\n",
    "    plt.xlabel(fet)\n",
    "    plt.ylabel('Car Price')\n",
    "    plt.title('Bivariate Analysis on {} and Car Price'.format(fet))\n",
    "    plt.xticks(rotation=90)\n",
    "    plt.yticks(rotation=0)\n",
    "    plt.show()"
   ]
  },
  {
   "cell_type": "markdown",
   "metadata": {},
   "source": [
    "#### Observations from above Plots:\n",
    " - Car Price is more for bmw,audi,jaguar,buick,porsche.\n",
    " - Gasoline cars are more prefered over Diesel and Diesel cars are more priced than gasoline cars.\n",
    " - Car type Sedan is more prefered over other car types like hatchback/hardtop as they ar epriced more.\n",
    " - Cars with aspiration std are most sold since cars with aspiration as turbo are more priced.\n",
    " - Cars with Engine Type OHC are most sold since all other types are more priced.\n",
    " - Cars with Drivewheel fwd are most sold. \n",
    " - Cars with Engine Location front are most sold since cars rear engine are more priced.\n",
    " - Cars with fulesystem as mpfi are most sold since it seems to be the standard and all others are priced less.\n",
    " - Cars with range less than 10000 are sold most."
   ]
  },
  {
   "cell_type": "code",
   "execution_count": 27,
   "metadata": {
    "scrolled": true
   },
   "outputs": [
    {
     "data": {
      "image/png": "[encoded data removed]",
      "text/plain": [
       "<Figure size 1080x360 with 1 Axes>"
      ]
     },
     "metadata": {
      "needs_background": "light"
     },
     "output_type": "display_data"
    },
    {
     "data": {
      "image/png": "[encoded data removed]",
      "text/plain": [
       "<Figure size 1080x360 with 1 Axes>"
      ]
     },
     "metadata": {
      "needs_background": "light"
     },
     "output_type": "display_data"
    },
    {
     "data": {
      "image/png": "[encoded data removed]",
      "text/plain": [
       "<Figure size 1080x360 with 1 Axes>"
      ]
     },
     "metadata": {
      "needs_background": "light"
     },
     "output_type": "display_data"
    },
    {
     "data": {
      "image/png": "[encoded data removed]",
      "text/plain": [
       "<Figure size 1080x360 with 1 Axes>"
      ]
     },
     "metadata": {
      "needs_background": "light"
     },
     "output_type": "display_data"
    }
   ],
   "source": [
    "for fet in col_cat:\n",
    "    if fet in ['CarName', 'fueltype','enginetype','fuelsystem','carsrange']:\n",
    "        fig, axs = plt.subplots(figsize = (15,5))\n",
    "        car_df.groupby(fet)['price'].mean().sort_values(ascending = False).plot.bar()\n",
    "        plt.xlabel(fet)\n",
    "        plt.ylabel('Car Price')\n",
    "        plt.title('{} vs Average Price'.format(fet))\n",
    "        plt.xticks(rotation=90)\n",
    "        plt.yticks(rotation=0)\n",
    "        plt.show()"
   ]
  },
  {
   "cell_type": "markdown",
   "metadata": {},
   "source": [
    "#### Observations from above plots are:\n",
    " - Jaguar,Buick, Porsche & BMW seem to have highest average price.\n",
    " - Diesel has higher average price than gas.\n",
    " - Engine type dohcv/ohcv have higher average price.\n",
    " - Fuelsystem mpfi has highest average price."
   ]
  },
  {
   "cell_type": "code",
   "execution_count": 28,
   "metadata": {},
   "outputs": [
    {
     "data": {
      "image/png": "[encoded data removed]",
      "text/plain": [
       "<Figure size 432x288 with 1 Axes>"
      ]
     },
     "metadata": {
      "needs_background": "light"
     },
     "output_type": "display_data"
    },
    {
     "data": {
      "image/png": "[encoded data removed]",
      "text/plain": [
       "<Figure size 432x288 with 1 Axes>"
      ]
     },
     "metadata": {
      "needs_background": "light"
     },
     "output_type": "display_data"
    },
    {
     "data": {
      "image/png": "[encoded data removed]",
      "text/plain": [
       "<Figure size 432x288 with 1 Axes>"
      ]
     },
     "metadata": {
      "needs_background": "light"
     },
     "output_type": "display_data"
    },
    {
     "data": {
      "image/png": "[encoded data removed]",
      "text/plain": [
       "<Figure size 432x288 with 1 Axes>"
      ]
     },
     "metadata": {
      "needs_background": "light"
     },
     "output_type": "display_data"
    },
    {
     "data": {
      "image/png": "[encoded data removed]",
      "text/plain": [
       "<Figure size 432x288 with 1 Axes>"
      ]
     },
     "metadata": {
      "needs_background": "light"
     },
     "output_type": "display_data"
    }
   ],
   "source": [
    "for fet in col_num:\n",
    "    if fet in ['wheelbase', 'curbweight','stroke','compressionratio','avgmiliege']: \n",
    "        sns.distplot(car_df[fet])\n",
    "        plt.xlabel(fet)\n",
    "        plt.xticks(rotation=90)\n",
    "        plt.yticks(rotation=0)\n",
    "        plt.show()"
   ]
  },
  {
   "cell_type": "markdown",
   "metadata": {},
   "source": [
    "## 3. Data Preparation"
   ]
  },
  {
   "cell_type": "markdown",
   "metadata": {},
   "source": [
    "#### Creating Dummy Variables - One Hot Encoding."
   ]
  },
  {
   "cell_type": "code",
   "execution_count": 29,
   "metadata": {},
   "outputs": [
    {
     "data": {
      "text/html": [
       "<div>\n",
       "<style scoped>\n",
       "    .dataframe tbody tr th:only-of-type {\n",
       "        vertical-align: middle;\n",
       "    }\n",
       "\n",
       "    .dataframe tbody tr th {\n",
       "        vertical-align: top;\n",
       "    }\n",
       "\n",
       "    .dataframe thead th {\n",
       "        text-align: right;\n",
       "    }\n",
       "</style>\n",
       "<table border=\"1\" class=\"dataframe\">\n",
       "  <thead>\n",
       "    <tr style=\"text-align: right;\">\n",
       "      <th></th>\n",
       "      <th>car_ID</th>\n",
       "      <th>symboling</th>\n",
       "      <th>doornumber</th>\n",
       "      <th>wheelbase</th>\n",
       "      <th>carlength</th>\n",
       "      <th>carwidth</th>\n",
       "      <th>carheight</th>\n",
       "      <th>curbweight</th>\n",
       "      <th>cylindernumber</th>\n",
       "      <th>enginesize</th>\n",
       "      <th>boreratio</th>\n",
       "      <th>stroke</th>\n",
       "      <th>compressionratio</th>\n",
       "      <th>horsepower</th>\n",
       "      <th>peakrpm</th>\n",
       "      <th>price</th>\n",
       "      <th>avgmiliege</th>\n",
       "      <th>CarName_audi</th>\n",
       "      <th>CarName_bmw</th>\n",
       "      <th>CarName_buick</th>\n",
       "      <th>...</th>\n",
       "      <th>carbody_hardtop</th>\n",
       "      <th>carbody_hatchback</th>\n",
       "      <th>carbody_sedan</th>\n",
       "      <th>carbody_wagon</th>\n",
       "      <th>drivewheel_fwd</th>\n",
       "      <th>drivewheel_rwd</th>\n",
       "      <th>enginelocation_rear</th>\n",
       "      <th>enginetype_dohcv</th>\n",
       "      <th>enginetype_l</th>\n",
       "      <th>enginetype_ohc</th>\n",
       "      <th>enginetype_ohcf</th>\n",
       "      <th>enginetype_ohcv</th>\n",
       "      <th>enginetype_rotor</th>\n",
       "      <th>fuelsystem_2bbl</th>\n",
       "      <th>fuelsystem_4bbl</th>\n",
       "      <th>fuelsystem_idi</th>\n",
       "      <th>fuelsystem_mfi</th>\n",
       "      <th>fuelsystem_mpfi</th>\n",
       "      <th>fuelsystem_spdi</th>\n",
       "      <th>fuelsystem_spfi</th>\n",
       "    </tr>\n",
       "  </thead>\n",
       "  <tbody>\n",
       "    <tr>\n",
       "      <th>0</th>\n",
       "      <td>1</td>\n",
       "      <td>3</td>\n",
       "      <td>2</td>\n",
       "      <td>88.6</td>\n",
       "      <td>168.8</td>\n",
       "      <td>64.1</td>\n",
       "      <td>48.8</td>\n",
       "      <td>2548</td>\n",
       "      <td>4</td>\n",
       "      <td>130</td>\n",
       "      <td>3.47</td>\n",
       "      <td>2.68</td>\n",
       "      <td>9.0</td>\n",
       "      <td>111</td>\n",
       "      <td>5000</td>\n",
       "      <td>13495.0</td>\n",
       "      <td>24</td>\n",
       "      <td>0</td>\n",
       "      <td>0</td>\n",
       "      <td>0</td>\n",
       "      <td>...</td>\n",
       "      <td>0</td>\n",
       "      <td>0</td>\n",
       "      <td>0</td>\n",
       "      <td>0</td>\n",
       "      <td>0</td>\n",
       "      <td>1</td>\n",
       "      <td>0</td>\n",
       "      <td>0</td>\n",
       "      <td>0</td>\n",
       "      <td>0</td>\n",
       "      <td>0</td>\n",
       "      <td>0</td>\n",
       "      <td>0</td>\n",
       "      <td>0</td>\n",
       "      <td>0</td>\n",
       "      <td>0</td>\n",
       "      <td>0</td>\n",
       "      <td>1</td>\n",
       "      <td>0</td>\n",
       "      <td>0</td>\n",
       "    </tr>\n",
       "    <tr>\n",
       "      <th>1</th>\n",
       "      <td>2</td>\n",
       "      <td>3</td>\n",
       "      <td>2</td>\n",
       "      <td>88.6</td>\n",
       "      <td>168.8</td>\n",
       "      <td>64.1</td>\n",
       "      <td>48.8</td>\n",
       "      <td>2548</td>\n",
       "      <td>4</td>\n",
       "      <td>130</td>\n",
       "      <td>3.47</td>\n",
       "      <td>2.68</td>\n",
       "      <td>9.0</td>\n",
       "      <td>111</td>\n",
       "      <td>5000</td>\n",
       "      <td>16500.0</td>\n",
       "      <td>24</td>\n",
       "      <td>0</td>\n",
       "      <td>0</td>\n",
       "      <td>0</td>\n",
       "      <td>...</td>\n",
       "      <td>0</td>\n",
       "      <td>0</td>\n",
       "      <td>0</td>\n",
       "      <td>0</td>\n",
       "      <td>0</td>\n",
       "      <td>1</td>\n",
       "      <td>0</td>\n",
       "      <td>0</td>\n",
       "      <td>0</td>\n",
       "      <td>0</td>\n",
       "      <td>0</td>\n",
       "      <td>0</td>\n",
       "      <td>0</td>\n",
       "      <td>0</td>\n",
       "      <td>0</td>\n",
       "      <td>0</td>\n",
       "      <td>0</td>\n",
       "      <td>1</td>\n",
       "      <td>0</td>\n",
       "      <td>0</td>\n",
       "    </tr>\n",
       "    <tr>\n",
       "      <th>2</th>\n",
       "      <td>3</td>\n",
       "      <td>1</td>\n",
       "      <td>2</td>\n",
       "      <td>94.5</td>\n",
       "      <td>171.2</td>\n",
       "      <td>65.5</td>\n",
       "      <td>52.4</td>\n",
       "      <td>2823</td>\n",
       "      <td>6</td>\n",
       "      <td>152</td>\n",
       "      <td>2.68</td>\n",
       "      <td>3.47</td>\n",
       "      <td>9.0</td>\n",
       "      <td>154</td>\n",
       "      <td>5000</td>\n",
       "      <td>16500.0</td>\n",
       "      <td>22</td>\n",
       "      <td>0</td>\n",
       "      <td>0</td>\n",
       "      <td>0</td>\n",
       "      <td>...</td>\n",
       "      <td>0</td>\n",
       "      <td>1</td>\n",
       "      <td>0</td>\n",
       "      <td>0</td>\n",
       "      <td>0</td>\n",
       "      <td>1</td>\n",
       "      <td>0</td>\n",
       "      <td>0</td>\n",
       "      <td>0</td>\n",
       "      <td>0</td>\n",
       "      <td>0</td>\n",
       "      <td>1</td>\n",
       "      <td>0</td>\n",
       "      <td>0</td>\n",
       "      <td>0</td>\n",
       "      <td>0</td>\n",
       "      <td>0</td>\n",
       "      <td>1</td>\n",
       "      <td>0</td>\n",
       "      <td>0</td>\n",
       "    </tr>\n",
       "    <tr>\n",
       "      <th>3</th>\n",
       "      <td>4</td>\n",
       "      <td>2</td>\n",
       "      <td>4</td>\n",
       "      <td>99.8</td>\n",
       "      <td>176.6</td>\n",
       "      <td>66.2</td>\n",
       "      <td>54.3</td>\n",
       "      <td>2337</td>\n",
       "      <td>4</td>\n",
       "      <td>109</td>\n",
       "      <td>3.19</td>\n",
       "      <td>3.40</td>\n",
       "      <td>10.0</td>\n",
       "      <td>102</td>\n",
       "      <td>5500</td>\n",
       "      <td>13950.0</td>\n",
       "      <td>27</td>\n",
       "      <td>1</td>\n",
       "      <td>0</td>\n",
       "      <td>0</td>\n",
       "      <td>...</td>\n",
       "      <td>0</td>\n",
       "      <td>0</td>\n",
       "      <td>1</td>\n",
       "      <td>0</td>\n",
       "      <td>1</td>\n",
       "      <td>0</td>\n",
       "      <td>0</td>\n",
       "      <td>0</td>\n",
       "      <td>0</td>\n",
       "      <td>1</td>\n",
       "      <td>0</td>\n",
       "      <td>0</td>\n",
       "      <td>0</td>\n",
       "      <td>0</td>\n",
       "      <td>0</td>\n",
       "      <td>0</td>\n",
       "      <td>0</td>\n",
       "      <td>1</td>\n",
       "      <td>0</td>\n",
       "      <td>0</td>\n",
       "    </tr>\n",
       "    <tr>\n",
       "      <th>4</th>\n",
       "      <td>5</td>\n",
       "      <td>2</td>\n",
       "      <td>4</td>\n",
       "      <td>99.4</td>\n",
       "      <td>176.6</td>\n",
       "      <td>66.4</td>\n",
       "      <td>54.3</td>\n",
       "      <td>2824</td>\n",
       "      <td>5</td>\n",
       "      <td>136</td>\n",
       "      <td>3.19</td>\n",
       "      <td>3.40</td>\n",
       "      <td>8.0</td>\n",
       "      <td>115</td>\n",
       "      <td>5500</td>\n",
       "      <td>17450.0</td>\n",
       "      <td>20</td>\n",
       "      <td>1</td>\n",
       "      <td>0</td>\n",
       "      <td>0</td>\n",
       "      <td>...</td>\n",
       "      <td>0</td>\n",
       "      <td>0</td>\n",
       "      <td>1</td>\n",
       "      <td>0</td>\n",
       "      <td>0</td>\n",
       "      <td>0</td>\n",
       "      <td>0</td>\n",
       "      <td>0</td>\n",
       "      <td>0</td>\n",
       "      <td>1</td>\n",
       "      <td>0</td>\n",
       "      <td>0</td>\n",
       "      <td>0</td>\n",
       "      <td>0</td>\n",
       "      <td>0</td>\n",
       "      <td>0</td>\n",
       "      <td>0</td>\n",
       "      <td>1</td>\n",
       "      <td>0</td>\n",
       "      <td>0</td>\n",
       "    </tr>\n",
       "  </tbody>\n",
       "</table>\n",
       "<p>5 rows × 60 columns</p>\n",
       "</div>"
      ],
      "text/plain": [
       "   car_ID  symboling  doornumber  wheelbase  carlength  carwidth  carheight  \\\n",
       "0       1          3           2       88.6      168.8      64.1       48.8   \n",
       "1       2          3           2       88.6      168.8      64.1       48.8   \n",
       "2       3          1           2       94.5      171.2      65.5       52.4   \n",
       "3       4          2           4       99.8      176.6      66.2       54.3   \n",
       "4       5          2           4       99.4      176.6      66.4       54.3   \n",
       "\n",
       "   curbweight  cylindernumber  enginesize  boreratio  stroke  \\\n",
       "0        2548               4         130       3.47    2.68   \n",
       "1        2548               4         130       3.47    2.68   \n",
       "2        2823               6         152       2.68    3.47   \n",
       "3        2337               4         109       3.19    3.40   \n",
       "4        2824               5         136       3.19    3.40   \n",
       "\n",
       "   compressionratio  horsepower  peakrpm    price  avgmiliege  CarName_audi  \\\n",
       "0               9.0         111     5000  13495.0          24             0   \n",
       "1               9.0         111     5000  16500.0          24             0   \n",
       "2               9.0         154     5000  16500.0          22             0   \n",
       "3              10.0         102     5500  13950.0          27             1   \n",
       "4               8.0         115     5500  17450.0          20             1   \n",
       "\n",
       "   CarName_bmw  CarName_buick  ...  carbody_hardtop  carbody_hatchback  \\\n",
       "0            0              0  ...                0                  0   \n",
       "1            0              0  ...                0                  0   \n",
       "2            0              0  ...                0                  1   \n",
       "3            0              0  ...                0                  0   \n",
       "4            0              0  ...                0                  0   \n",
       "\n",
       "   carbody_sedan  carbody_wagon  drivewheel_fwd  drivewheel_rwd  \\\n",
       "0              0              0               0               1   \n",
       "1              0              0               0               1   \n",
       "2              0              0               0               1   \n",
       "3              1              0               1               0   \n",
       "4              1              0               0               0   \n",
       "\n",
       "   enginelocation_rear  enginetype_dohcv  enginetype_l  enginetype_ohc  \\\n",
       "0                    0                 0             0               0   \n",
       "1                    0                 0             0               0   \n",
       "2                    0                 0             0               0   \n",
       "3                    0                 0             0               1   \n",
       "4                    0                 0             0               1   \n",
       "\n",
       "   enginetype_ohcf  enginetype_ohcv  enginetype_rotor  fuelsystem_2bbl  \\\n",
       "0                0                0                 0                0   \n",
       "1                0                0                 0                0   \n",
       "2                0                1                 0                0   \n",
       "3                0                0                 0                0   \n",
       "4                0                0                 0                0   \n",
       "\n",
       "   fuelsystem_4bbl  fuelsystem_idi  fuelsystem_mfi  fuelsystem_mpfi  \\\n",
       "0                0               0               0                1   \n",
       "1                0               0               0                1   \n",
       "2                0               0               0                1   \n",
       "3                0               0               0                1   \n",
       "4                0               0               0                1   \n",
       "\n",
       "   fuelsystem_spdi  fuelsystem_spfi  \n",
       "0                0                0  \n",
       "1                0                0  \n",
       "2                0                0  \n",
       "3                0                0  \n",
       "4                0                0  \n",
       "\n",
       "[5 rows x 60 columns]"
      ]
     },
     "execution_count": 29,
     "metadata": {},
     "output_type": "execute_result"
    }
   ],
   "source": [
    "df_main = car_df.copy()\n",
    "# Convert into dummies\n",
    "cars_dum = pd.get_dummies(car_df[col_cat], drop_first=True)\n",
    "# Drop categorical variable columns\n",
    "car_df = car_df.drop((col_cat), axis=1)\n",
    "# Concatenate dummy variables with X\n",
    "car_df = pd.concat([car_df, cars_dum], axis=1)\n",
    "# Let's check the first few rows\n",
    "car_df.head()"
   ]
  },
  {
   "cell_type": "markdown",
   "metadata": {},
   "source": [
    "## Step 4: Splitting the Data into Training and Testing Sets"
   ]
  },
  {
   "cell_type": "code",
   "execution_count": 30,
   "metadata": {},
   "outputs": [],
   "source": [
    "# Drop the 'car_ID' column\n",
    "car_df.drop('car_ID', axis = 1, inplace = True)"
   ]
  },
  {
   "cell_type": "code",
   "execution_count": 31,
   "metadata": {},
   "outputs": [],
   "source": [
    "from sklearn.model_selection import train_test_split\n",
    "df_train, df_test = train_test_split(car_df, train_size = 0.7, test_size = 0.3, random_state = 100)"
   ]
  },
  {
   "cell_type": "markdown",
   "metadata": {},
   "source": [
    "#### Normailse Numeric variables using MinMax Scaling."
   ]
  },
  {
   "cell_type": "code",
   "execution_count": 32,
   "metadata": {},
   "outputs": [],
   "source": [
    "from sklearn.preprocessing import StandardScaler\n",
    "scaler = StandardScaler()\n",
    "df_train[col_num] = scaler.fit_transform(df_train[col_num])"
   ]
  },
  {
   "cell_type": "code",
   "execution_count": 33,
   "metadata": {},
   "outputs": [
    {
     "data": {
      "text/html": [
       "<div>\n",
       "<style scoped>\n",
       "    .dataframe tbody tr th:only-of-type {\n",
       "        vertical-align: middle;\n",
       "    }\n",
       "\n",
       "    .dataframe tbody tr th {\n",
       "        vertical-align: top;\n",
       "    }\n",
       "\n",
       "    .dataframe thead th {\n",
       "        text-align: right;\n",
       "    }\n",
       "</style>\n",
       "<table border=\"1\" class=\"dataframe\">\n",
       "  <thead>\n",
       "    <tr style=\"text-align: right;\">\n",
       "      <th></th>\n",
       "      <th>symboling</th>\n",
       "      <th>doornumber</th>\n",
       "      <th>wheelbase</th>\n",
       "      <th>carlength</th>\n",
       "      <th>carwidth</th>\n",
       "      <th>carheight</th>\n",
       "      <th>curbweight</th>\n",
       "      <th>cylindernumber</th>\n",
       "      <th>enginesize</th>\n",
       "      <th>boreratio</th>\n",
       "      <th>stroke</th>\n",
       "      <th>compressionratio</th>\n",
       "      <th>horsepower</th>\n",
       "      <th>peakrpm</th>\n",
       "      <th>price</th>\n",
       "      <th>avgmiliege</th>\n",
       "      <th>CarName_audi</th>\n",
       "      <th>CarName_bmw</th>\n",
       "      <th>CarName_buick</th>\n",
       "      <th>CarName_chevrolet</th>\n",
       "      <th>...</th>\n",
       "      <th>carbody_hardtop</th>\n",
       "      <th>carbody_hatchback</th>\n",
       "      <th>carbody_sedan</th>\n",
       "      <th>carbody_wagon</th>\n",
       "      <th>drivewheel_fwd</th>\n",
       "      <th>drivewheel_rwd</th>\n",
       "      <th>enginelocation_rear</th>\n",
       "      <th>enginetype_dohcv</th>\n",
       "      <th>enginetype_l</th>\n",
       "      <th>enginetype_ohc</th>\n",
       "      <th>enginetype_ohcf</th>\n",
       "      <th>enginetype_ohcv</th>\n",
       "      <th>enginetype_rotor</th>\n",
       "      <th>fuelsystem_2bbl</th>\n",
       "      <th>fuelsystem_4bbl</th>\n",
       "      <th>fuelsystem_idi</th>\n",
       "      <th>fuelsystem_mfi</th>\n",
       "      <th>fuelsystem_mpfi</th>\n",
       "      <th>fuelsystem_spdi</th>\n",
       "      <th>fuelsystem_spfi</th>\n",
       "    </tr>\n",
       "  </thead>\n",
       "  <tbody>\n",
       "    <tr>\n",
       "      <th>122</th>\n",
       "      <td>0.170159</td>\n",
       "      <td>0.887412</td>\n",
       "      <td>-0.811836</td>\n",
       "      <td>-0.487238</td>\n",
       "      <td>-0.924500</td>\n",
       "      <td>-1.134628</td>\n",
       "      <td>-0.642128</td>\n",
       "      <td>-0.351431</td>\n",
       "      <td>-0.660242</td>\n",
       "      <td>-1.297329</td>\n",
       "      <td>-0.064443</td>\n",
       "      <td>-0.172569</td>\n",
       "      <td>-0.872898</td>\n",
       "      <td>0.771349</td>\n",
       "      <td>-0.700201</td>\n",
       "      <td>0.908353</td>\n",
       "      <td>0</td>\n",
       "      <td>0</td>\n",
       "      <td>0</td>\n",
       "      <td>0</td>\n",
       "      <td>...</td>\n",
       "      <td>0</td>\n",
       "      <td>0</td>\n",
       "      <td>1</td>\n",
       "      <td>0</td>\n",
       "      <td>1</td>\n",
       "      <td>0</td>\n",
       "      <td>0</td>\n",
       "      <td>0</td>\n",
       "      <td>0</td>\n",
       "      <td>1</td>\n",
       "      <td>0</td>\n",
       "      <td>0</td>\n",
       "      <td>0</td>\n",
       "      <td>1</td>\n",
       "      <td>0</td>\n",
       "      <td>0</td>\n",
       "      <td>0</td>\n",
       "      <td>0</td>\n",
       "      <td>0</td>\n",
       "      <td>0</td>\n",
       "    </tr>\n",
       "    <tr>\n",
       "      <th>125</th>\n",
       "      <td>1.848278</td>\n",
       "      <td>-1.126872</td>\n",
       "      <td>-0.677177</td>\n",
       "      <td>-0.359789</td>\n",
       "      <td>1.114978</td>\n",
       "      <td>-1.382026</td>\n",
       "      <td>0.439415</td>\n",
       "      <td>-0.351431</td>\n",
       "      <td>0.637806</td>\n",
       "      <td>2.432256</td>\n",
       "      <td>-0.449757</td>\n",
       "      <td>-0.146125</td>\n",
       "      <td>1.021826</td>\n",
       "      <td>0.771349</td>\n",
       "      <td>1.151929</td>\n",
       "      <td>-0.722742</td>\n",
       "      <td>0</td>\n",
       "      <td>0</td>\n",
       "      <td>0</td>\n",
       "      <td>0</td>\n",
       "      <td>...</td>\n",
       "      <td>0</td>\n",
       "      <td>1</td>\n",
       "      <td>0</td>\n",
       "      <td>0</td>\n",
       "      <td>0</td>\n",
       "      <td>1</td>\n",
       "      <td>0</td>\n",
       "      <td>0</td>\n",
       "      <td>0</td>\n",
       "      <td>1</td>\n",
       "      <td>0</td>\n",
       "      <td>0</td>\n",
       "      <td>0</td>\n",
       "      <td>0</td>\n",
       "      <td>0</td>\n",
       "      <td>0</td>\n",
       "      <td>0</td>\n",
       "      <td>1</td>\n",
       "      <td>0</td>\n",
       "      <td>0</td>\n",
       "    </tr>\n",
       "    <tr>\n",
       "      <th>166</th>\n",
       "      <td>0.170159</td>\n",
       "      <td>-1.126872</td>\n",
       "      <td>-0.677177</td>\n",
       "      <td>-0.375720</td>\n",
       "      <td>-0.833856</td>\n",
       "      <td>-0.392434</td>\n",
       "      <td>-0.441296</td>\n",
       "      <td>-0.351431</td>\n",
       "      <td>-0.660242</td>\n",
       "      <td>-0.259197</td>\n",
       "      <td>-0.546085</td>\n",
       "      <td>-0.172569</td>\n",
       "      <td>0.238673</td>\n",
       "      <td>3.064983</td>\n",
       "      <td>-0.452248</td>\n",
       "      <td>-0.129617</td>\n",
       "      <td>0</td>\n",
       "      <td>0</td>\n",
       "      <td>0</td>\n",
       "      <td>0</td>\n",
       "      <td>...</td>\n",
       "      <td>0</td>\n",
       "      <td>1</td>\n",
       "      <td>0</td>\n",
       "      <td>0</td>\n",
       "      <td>0</td>\n",
       "      <td>1</td>\n",
       "      <td>0</td>\n",
       "      <td>0</td>\n",
       "      <td>0</td>\n",
       "      <td>0</td>\n",
       "      <td>0</td>\n",
       "      <td>0</td>\n",
       "      <td>0</td>\n",
       "      <td>0</td>\n",
       "      <td>0</td>\n",
       "      <td>0</td>\n",
       "      <td>0</td>\n",
       "      <td>1</td>\n",
       "      <td>0</td>\n",
       "      <td>0</td>\n",
       "    </tr>\n",
       "    <tr>\n",
       "      <th>1</th>\n",
       "      <td>1.848278</td>\n",
       "      <td>-1.126872</td>\n",
       "      <td>-1.670284</td>\n",
       "      <td>-0.367754</td>\n",
       "      <td>-0.788535</td>\n",
       "      <td>-1.959288</td>\n",
       "      <td>0.015642</td>\n",
       "      <td>-0.351431</td>\n",
       "      <td>0.123485</td>\n",
       "      <td>0.625138</td>\n",
       "      <td>-1.830463</td>\n",
       "      <td>-0.278345</td>\n",
       "      <td>0.213410</td>\n",
       "      <td>-0.271212</td>\n",
       "      <td>0.442646</td>\n",
       "      <td>-0.574461</td>\n",
       "      <td>0</td>\n",
       "      <td>0</td>\n",
       "      <td>0</td>\n",
       "      <td>0</td>\n",
       "      <td>...</td>\n",
       "      <td>0</td>\n",
       "      <td>0</td>\n",
       "      <td>0</td>\n",
       "      <td>0</td>\n",
       "      <td>0</td>\n",
       "      <td>1</td>\n",
       "      <td>0</td>\n",
       "      <td>0</td>\n",
       "      <td>0</td>\n",
       "      <td>0</td>\n",
       "      <td>0</td>\n",
       "      <td>0</td>\n",
       "      <td>0</td>\n",
       "      <td>0</td>\n",
       "      <td>0</td>\n",
       "      <td>0</td>\n",
       "      <td>0</td>\n",
       "      <td>1</td>\n",
       "      <td>0</td>\n",
       "      <td>0</td>\n",
       "    </tr>\n",
       "    <tr>\n",
       "      <th>199</th>\n",
       "      <td>-1.507960</td>\n",
       "      <td>0.887412</td>\n",
       "      <td>0.972390</td>\n",
       "      <td>1.225364</td>\n",
       "      <td>0.616439</td>\n",
       "      <td>1.627983</td>\n",
       "      <td>1.137720</td>\n",
       "      <td>-0.351431</td>\n",
       "      <td>0.123485</td>\n",
       "      <td>1.201877</td>\n",
       "      <td>-0.321319</td>\n",
       "      <td>-0.675002</td>\n",
       "      <td>1.501822</td>\n",
       "      <td>-0.062699</td>\n",
       "      <td>0.757569</td>\n",
       "      <td>-1.315868</td>\n",
       "      <td>0</td>\n",
       "      <td>0</td>\n",
       "      <td>0</td>\n",
       "      <td>0</td>\n",
       "      <td>...</td>\n",
       "      <td>0</td>\n",
       "      <td>0</td>\n",
       "      <td>0</td>\n",
       "      <td>1</td>\n",
       "      <td>0</td>\n",
       "      <td>1</td>\n",
       "      <td>0</td>\n",
       "      <td>0</td>\n",
       "      <td>0</td>\n",
       "      <td>1</td>\n",
       "      <td>0</td>\n",
       "      <td>0</td>\n",
       "      <td>0</td>\n",
       "      <td>0</td>\n",
       "      <td>0</td>\n",
       "      <td>0</td>\n",
       "      <td>0</td>\n",
       "      <td>1</td>\n",
       "      <td>0</td>\n",
       "      <td>0</td>\n",
       "    </tr>\n",
       "  </tbody>\n",
       "</table>\n",
       "<p>5 rows × 59 columns</p>\n",
       "</div>"
      ],
      "text/plain": [
       "     symboling  doornumber  wheelbase  carlength  carwidth  carheight  \\\n",
       "122   0.170159    0.887412  -0.811836  -0.487238 -0.924500  -1.134628   \n",
       "125   1.848278   -1.126872  -0.677177  -0.359789  1.114978  -1.382026   \n",
       "166   0.170159   -1.126872  -0.677177  -0.375720 -0.833856  -0.392434   \n",
       "1     1.848278   -1.126872  -1.670284  -0.367754 -0.788535  -1.959288   \n",
       "199  -1.507960    0.887412   0.972390   1.225364  0.616439   1.627983   \n",
       "\n",
       "     curbweight  cylindernumber  enginesize  boreratio    stroke  \\\n",
       "122   -0.642128       -0.351431   -0.660242  -1.297329 -0.064443   \n",
       "125    0.439415       -0.351431    0.637806   2.432256 -0.449757   \n",
       "166   -0.441296       -0.351431   -0.660242  -0.259197 -0.546085   \n",
       "1      0.015642       -0.351431    0.123485   0.625138 -1.830463   \n",
       "199    1.137720       -0.351431    0.123485   1.201877 -0.321319   \n",
       "\n",
       "     compressionratio  horsepower   peakrpm     price  avgmiliege  \\\n",
       "122         -0.172569   -0.872898  0.771349 -0.700201    0.908353   \n",
       "125         -0.146125    1.021826  0.771349  1.151929   -0.722742   \n",
       "166         -0.172569    0.238673  3.064983 -0.452248   -0.129617   \n",
       "1           -0.278345    0.213410 -0.271212  0.442646   -0.574461   \n",
       "199         -0.675002    1.501822 -0.062699  0.757569   -1.315868   \n",
       "\n",
       "     CarName_audi  CarName_bmw  CarName_buick  CarName_chevrolet  ...  \\\n",
       "122             0            0              0                  0  ...   \n",
       "125             0            0              0                  0  ...   \n",
       "166             0            0              0                  0  ...   \n",
       "1               0            0              0                  0  ...   \n",
       "199             0            0              0                  0  ...   \n",
       "\n",
       "     carbody_hardtop  carbody_hatchback  carbody_sedan  carbody_wagon  \\\n",
       "122                0                  0              1              0   \n",
       "125                0                  1              0              0   \n",
       "166                0                  1              0              0   \n",
       "1                  0                  0              0              0   \n",
       "199                0                  0              0              1   \n",
       "\n",
       "     drivewheel_fwd  drivewheel_rwd  enginelocation_rear  enginetype_dohcv  \\\n",
       "122               1               0                    0                 0   \n",
       "125               0               1                    0                 0   \n",
       "166               0               1                    0                 0   \n",
       "1                 0               1                    0                 0   \n",
       "199               0               1                    0                 0   \n",
       "\n",
       "     enginetype_l  enginetype_ohc  enginetype_ohcf  enginetype_ohcv  \\\n",
       "122             0               1                0                0   \n",
       "125             0               1                0                0   \n",
       "166             0               0                0                0   \n",
       "1               0               0                0                0   \n",
       "199             0               1                0                0   \n",
       "\n",
       "     enginetype_rotor  fuelsystem_2bbl  fuelsystem_4bbl  fuelsystem_idi  \\\n",
       "122                 0                1                0               0   \n",
       "125                 0                0                0               0   \n",
       "166                 0                0                0               0   \n",
       "1                   0                0                0               0   \n",
       "199                 0                0                0               0   \n",
       "\n",
       "     fuelsystem_mfi  fuelsystem_mpfi  fuelsystem_spdi  fuelsystem_spfi  \n",
       "122               0                0                0                0  \n",
       "125               0                1                0                0  \n",
       "166               0                1                0                0  \n",
       "1                 0                1                0                0  \n",
       "199               0                1                0                0  \n",
       "\n",
       "[5 rows x 59 columns]"
      ]
     },
     "execution_count": 33,
     "metadata": {},
     "output_type": "execute_result"
    }
   ],
   "source": [
    "df_train.head()"
   ]
  },
  {
   "cell_type": "code",
   "execution_count": 34,
   "metadata": {},
   "outputs": [
    {
     "data": {
      "text/html": [
       "<div>\n",
       "<style scoped>\n",
       "    .dataframe tbody tr th:only-of-type {\n",
       "        vertical-align: middle;\n",
       "    }\n",
       "\n",
       "    .dataframe tbody tr th {\n",
       "        vertical-align: top;\n",
       "    }\n",
       "\n",
       "    .dataframe thead th {\n",
       "        text-align: right;\n",
       "    }\n",
       "</style>\n",
       "<table border=\"1\" class=\"dataframe\">\n",
       "  <thead>\n",
       "    <tr style=\"text-align: right;\">\n",
       "      <th></th>\n",
       "      <th>symboling</th>\n",
       "      <th>doornumber</th>\n",
       "      <th>wheelbase</th>\n",
       "      <th>carlength</th>\n",
       "      <th>carwidth</th>\n",
       "      <th>carheight</th>\n",
       "      <th>curbweight</th>\n",
       "      <th>cylindernumber</th>\n",
       "      <th>enginesize</th>\n",
       "      <th>boreratio</th>\n",
       "      <th>stroke</th>\n",
       "      <th>compressionratio</th>\n",
       "      <th>horsepower</th>\n",
       "      <th>peakrpm</th>\n",
       "      <th>price</th>\n",
       "      <th>avgmiliege</th>\n",
       "      <th>CarName_audi</th>\n",
       "      <th>CarName_bmw</th>\n",
       "      <th>CarName_buick</th>\n",
       "      <th>CarName_chevrolet</th>\n",
       "      <th>...</th>\n",
       "      <th>carbody_hardtop</th>\n",
       "      <th>carbody_hatchback</th>\n",
       "      <th>carbody_sedan</th>\n",
       "      <th>carbody_wagon</th>\n",
       "      <th>drivewheel_fwd</th>\n",
       "      <th>drivewheel_rwd</th>\n",
       "      <th>enginelocation_rear</th>\n",
       "      <th>enginetype_dohcv</th>\n",
       "      <th>enginetype_l</th>\n",
       "      <th>enginetype_ohc</th>\n",
       "      <th>enginetype_ohcf</th>\n",
       "      <th>enginetype_ohcv</th>\n",
       "      <th>enginetype_rotor</th>\n",
       "      <th>fuelsystem_2bbl</th>\n",
       "      <th>fuelsystem_4bbl</th>\n",
       "      <th>fuelsystem_idi</th>\n",
       "      <th>fuelsystem_mfi</th>\n",
       "      <th>fuelsystem_mpfi</th>\n",
       "      <th>fuelsystem_spdi</th>\n",
       "      <th>fuelsystem_spfi</th>\n",
       "    </tr>\n",
       "  </thead>\n",
       "  <tbody>\n",
       "    <tr>\n",
       "      <th>count</th>\n",
       "      <td>1.430000e+02</td>\n",
       "      <td>1.430000e+02</td>\n",
       "      <td>1.430000e+02</td>\n",
       "      <td>1.430000e+02</td>\n",
       "      <td>1.430000e+02</td>\n",
       "      <td>1.430000e+02</td>\n",
       "      <td>1.430000e+02</td>\n",
       "      <td>1.430000e+02</td>\n",
       "      <td>1.430000e+02</td>\n",
       "      <td>1.430000e+02</td>\n",
       "      <td>1.430000e+02</td>\n",
       "      <td>1.430000e+02</td>\n",
       "      <td>1.430000e+02</td>\n",
       "      <td>1.430000e+02</td>\n",
       "      <td>1.430000e+02</td>\n",
       "      <td>1.430000e+02</td>\n",
       "      <td>143.000000</td>\n",
       "      <td>143.000000</td>\n",
       "      <td>143.000000</td>\n",
       "      <td>143.000000</td>\n",
       "      <td>...</td>\n",
       "      <td>143.000000</td>\n",
       "      <td>143.000000</td>\n",
       "      <td>143.000000</td>\n",
       "      <td>143.000000</td>\n",
       "      <td>143.000000</td>\n",
       "      <td>143.000000</td>\n",
       "      <td>143.000000</td>\n",
       "      <td>143.000000</td>\n",
       "      <td>143.000000</td>\n",
       "      <td>143.000000</td>\n",
       "      <td>143.000000</td>\n",
       "      <td>143.000000</td>\n",
       "      <td>143.000000</td>\n",
       "      <td>143.000000</td>\n",
       "      <td>143.000000</td>\n",
       "      <td>143.000000</td>\n",
       "      <td>143.0</td>\n",
       "      <td>143.000000</td>\n",
       "      <td>143.000000</td>\n",
       "      <td>143.0</td>\n",
       "    </tr>\n",
       "    <tr>\n",
       "      <th>mean</th>\n",
       "      <td>5.473477e-17</td>\n",
       "      <td>9.006005e-17</td>\n",
       "      <td>1.538785e-15</td>\n",
       "      <td>2.003060e-16</td>\n",
       "      <td>-4.093074e-15</td>\n",
       "      <td>5.450186e-16</td>\n",
       "      <td>-1.894367e-16</td>\n",
       "      <td>-3.726623e-16</td>\n",
       "      <td>-4.308908e-17</td>\n",
       "      <td>-1.059758e-15</td>\n",
       "      <td>2.155230e-15</td>\n",
       "      <td>7.259151e-17</td>\n",
       "      <td>1.195625e-16</td>\n",
       "      <td>6.009179e-16</td>\n",
       "      <td>1.925422e-16</td>\n",
       "      <td>1.257735e-16</td>\n",
       "      <td>0.034965</td>\n",
       "      <td>0.041958</td>\n",
       "      <td>0.034965</td>\n",
       "      <td>0.020979</td>\n",
       "      <td>...</td>\n",
       "      <td>0.020979</td>\n",
       "      <td>0.342657</td>\n",
       "      <td>0.475524</td>\n",
       "      <td>0.132867</td>\n",
       "      <td>0.594406</td>\n",
       "      <td>0.349650</td>\n",
       "      <td>0.006993</td>\n",
       "      <td>0.006993</td>\n",
       "      <td>0.062937</td>\n",
       "      <td>0.685315</td>\n",
       "      <td>0.083916</td>\n",
       "      <td>0.062937</td>\n",
       "      <td>0.027972</td>\n",
       "      <td>0.349650</td>\n",
       "      <td>0.020979</td>\n",
       "      <td>0.090909</td>\n",
       "      <td>0.0</td>\n",
       "      <td>0.440559</td>\n",
       "      <td>0.041958</td>\n",
       "      <td>0.0</td>\n",
       "    </tr>\n",
       "    <tr>\n",
       "      <th>std</th>\n",
       "      <td>1.003515e+00</td>\n",
       "      <td>1.003515e+00</td>\n",
       "      <td>1.003515e+00</td>\n",
       "      <td>1.003515e+00</td>\n",
       "      <td>1.003515e+00</td>\n",
       "      <td>1.003515e+00</td>\n",
       "      <td>1.003515e+00</td>\n",
       "      <td>1.003515e+00</td>\n",
       "      <td>1.003515e+00</td>\n",
       "      <td>1.003515e+00</td>\n",
       "      <td>1.003515e+00</td>\n",
       "      <td>1.003515e+00</td>\n",
       "      <td>1.003515e+00</td>\n",
       "      <td>1.003515e+00</td>\n",
       "      <td>1.003515e+00</td>\n",
       "      <td>1.003515e+00</td>\n",
       "      <td>0.184337</td>\n",
       "      <td>0.201198</td>\n",
       "      <td>0.184337</td>\n",
       "      <td>0.143818</td>\n",
       "      <td>...</td>\n",
       "      <td>0.143818</td>\n",
       "      <td>0.476266</td>\n",
       "      <td>0.501156</td>\n",
       "      <td>0.340624</td>\n",
       "      <td>0.492733</td>\n",
       "      <td>0.478536</td>\n",
       "      <td>0.083624</td>\n",
       "      <td>0.083624</td>\n",
       "      <td>0.243703</td>\n",
       "      <td>0.466023</td>\n",
       "      <td>0.278236</td>\n",
       "      <td>0.243703</td>\n",
       "      <td>0.165472</td>\n",
       "      <td>0.478536</td>\n",
       "      <td>0.143818</td>\n",
       "      <td>0.288490</td>\n",
       "      <td>0.0</td>\n",
       "      <td>0.498199</td>\n",
       "      <td>0.201198</td>\n",
       "      <td>0.0</td>\n",
       "    </tr>\n",
       "    <tr>\n",
       "      <th>min</th>\n",
       "      <td>-2.347020e+00</td>\n",
       "      <td>-1.126872e+00</td>\n",
       "      <td>-2.006930e+00</td>\n",
       "      <td>-2.574223e+00</td>\n",
       "      <td>-2.510760e+00</td>\n",
       "      <td>-2.371619e+00</td>\n",
       "      <td>-1.937401e+00</td>\n",
       "      <td>-2.084351e+00</td>\n",
       "      <td>-1.566427e+00</td>\n",
       "      <td>-2.412359e+00</td>\n",
       "      <td>-3.403827e+00</td>\n",
       "      <td>-8.072216e-01</td>\n",
       "      <td>-1.378157e+00</td>\n",
       "      <td>-2.043565e+00</td>\n",
       "      <td>-1.020394e+00</td>\n",
       "      <td>-1.908993e+00</td>\n",
       "      <td>0.000000</td>\n",
       "      <td>0.000000</td>\n",
       "      <td>0.000000</td>\n",
       "      <td>0.000000</td>\n",
       "      <td>...</td>\n",
       "      <td>0.000000</td>\n",
       "      <td>0.000000</td>\n",
       "      <td>0.000000</td>\n",
       "      <td>0.000000</td>\n",
       "      <td>0.000000</td>\n",
       "      <td>0.000000</td>\n",
       "      <td>0.000000</td>\n",
       "      <td>0.000000</td>\n",
       "      <td>0.000000</td>\n",
       "      <td>0.000000</td>\n",
       "      <td>0.000000</td>\n",
       "      <td>0.000000</td>\n",
       "      <td>0.000000</td>\n",
       "      <td>0.000000</td>\n",
       "      <td>0.000000</td>\n",
       "      <td>0.000000</td>\n",
       "      <td>0.0</td>\n",
       "      <td>0.000000</td>\n",
       "      <td>0.000000</td>\n",
       "      <td>0.0</td>\n",
       "    </tr>\n",
       "    <tr>\n",
       "      <th>25%</th>\n",
       "      <td>-6.689008e-01</td>\n",
       "      <td>-1.126872e+00</td>\n",
       "      <td>-6.771770e-01</td>\n",
       "      <td>-6.186702e-01</td>\n",
       "      <td>-8.565171e-01</td>\n",
       "      <td>-7.222984e-01</td>\n",
       "      <td>-7.711028e-01</td>\n",
       "      <td>-3.514313e-01</td>\n",
       "      <td>-6.847340e-01</td>\n",
       "      <td>-9.320600e-01</td>\n",
       "      <td>-4.497569e-01</td>\n",
       "      <td>-3.841200e-01</td>\n",
       "      <td>-8.223718e-01</td>\n",
       "      <td>-6.882361e-01</td>\n",
       "      <td>-7.072706e-01</td>\n",
       "      <td>-8.710235e-01</td>\n",
       "      <td>0.000000</td>\n",
       "      <td>0.000000</td>\n",
       "      <td>0.000000</td>\n",
       "      <td>0.000000</td>\n",
       "      <td>...</td>\n",
       "      <td>0.000000</td>\n",
       "      <td>0.000000</td>\n",
       "      <td>0.000000</td>\n",
       "      <td>0.000000</td>\n",
       "      <td>0.000000</td>\n",
       "      <td>0.000000</td>\n",
       "      <td>0.000000</td>\n",
       "      <td>0.000000</td>\n",
       "      <td>0.000000</td>\n",
       "      <td>0.000000</td>\n",
       "      <td>0.000000</td>\n",
       "      <td>0.000000</td>\n",
       "      <td>0.000000</td>\n",
       "      <td>0.000000</td>\n",
       "      <td>0.000000</td>\n",
       "      <td>0.000000</td>\n",
       "      <td>0.0</td>\n",
       "      <td>0.000000</td>\n",
       "      <td>0.000000</td>\n",
       "      <td>0.0</td>\n",
       "    </tr>\n",
       "    <tr>\n",
       "      <th>50%</th>\n",
       "      <td>1.701590e-01</td>\n",
       "      <td>8.874120e-01</td>\n",
       "      <td>-3.405307e-01</td>\n",
       "      <td>-1.128552e-01</td>\n",
       "      <td>-1.993522e-01</td>\n",
       "      <td>6.112865e-02</td>\n",
       "      <td>-2.478347e-01</td>\n",
       "      <td>-3.514313e-01</td>\n",
       "      <td>-3.663447e-01</td>\n",
       "      <td>9.948427e-03</td>\n",
       "      <td>6.399437e-02</td>\n",
       "      <td>-2.783446e-01</td>\n",
       "      <td>-2.160603e-01</td>\n",
       "      <td>1.458127e-01</td>\n",
       "      <td>-3.674114e-01</td>\n",
       "      <td>-1.296166e-01</td>\n",
       "      <td>0.000000</td>\n",
       "      <td>0.000000</td>\n",
       "      <td>0.000000</td>\n",
       "      <td>0.000000</td>\n",
       "      <td>...</td>\n",
       "      <td>0.000000</td>\n",
       "      <td>0.000000</td>\n",
       "      <td>0.000000</td>\n",
       "      <td>0.000000</td>\n",
       "      <td>1.000000</td>\n",
       "      <td>0.000000</td>\n",
       "      <td>0.000000</td>\n",
       "      <td>0.000000</td>\n",
       "      <td>0.000000</td>\n",
       "      <td>1.000000</td>\n",
       "      <td>0.000000</td>\n",
       "      <td>0.000000</td>\n",
       "      <td>0.000000</td>\n",
       "      <td>0.000000</td>\n",
       "      <td>0.000000</td>\n",
       "      <td>0.000000</td>\n",
       "      <td>0.0</td>\n",
       "      <td>0.000000</td>\n",
       "      <td>0.000000</td>\n",
       "      <td>0.0</td>\n",
       "    </tr>\n",
       "    <tr>\n",
       "      <th>75%</th>\n",
       "      <td>1.701590e-01</td>\n",
       "      <td>8.874120e-01</td>\n",
       "      <td>4.505882e-01</td>\n",
       "      <td>7.076008e-01</td>\n",
       "      <td>4.804736e-01</td>\n",
       "      <td>7.414732e-01</td>\n",
       "      <td>7.203955e-01</td>\n",
       "      <td>-3.514313e-01</td>\n",
       "      <td>3.928914e-01</td>\n",
       "      <td>8.942829e-01</td>\n",
       "      <td>4.814173e-01</td>\n",
       "      <td>-1.725692e-01</td>\n",
       "      <td>3.397252e-01</td>\n",
       "      <td>7.713493e-01</td>\n",
       "      <td>4.381475e-01</td>\n",
       "      <td>8.342124e-01</td>\n",
       "      <td>0.000000</td>\n",
       "      <td>0.000000</td>\n",
       "      <td>0.000000</td>\n",
       "      <td>0.000000</td>\n",
       "      <td>...</td>\n",
       "      <td>0.000000</td>\n",
       "      <td>1.000000</td>\n",
       "      <td>1.000000</td>\n",
       "      <td>0.000000</td>\n",
       "      <td>1.000000</td>\n",
       "      <td>1.000000</td>\n",
       "      <td>0.000000</td>\n",
       "      <td>0.000000</td>\n",
       "      <td>0.000000</td>\n",
       "      <td>1.000000</td>\n",
       "      <td>0.000000</td>\n",
       "      <td>0.000000</td>\n",
       "      <td>0.000000</td>\n",
       "      <td>1.000000</td>\n",
       "      <td>0.000000</td>\n",
       "      <td>0.000000</td>\n",
       "      <td>0.0</td>\n",
       "      <td>1.000000</td>\n",
       "      <td>0.000000</td>\n",
       "      <td>0.0</td>\n",
       "    </tr>\n",
       "    <tr>\n",
       "      <th>max</th>\n",
       "      <td>1.848278e+00</td>\n",
       "      <td>8.874120e-01</td>\n",
       "      <td>2.874442e+00</td>\n",
       "      <td>2.324616e+00</td>\n",
       "      <td>2.927846e+00</td>\n",
       "      <td>2.287711e+00</td>\n",
       "      <td>2.812547e+00</td>\n",
       "      <td>6.580247e+00</td>\n",
       "      <td>4.923816e+00</td>\n",
       "      <td>2.432256e+00</td>\n",
       "      <td>2.953845e+00</td>\n",
       "      <td>3.423794e+00</td>\n",
       "      <td>4.684957e+00</td>\n",
       "      <td>3.064983e+00</td>\n",
       "      <td>3.632362e+00</td>\n",
       "      <td>3.429137e+00</td>\n",
       "      <td>1.000000</td>\n",
       "      <td>1.000000</td>\n",
       "      <td>1.000000</td>\n",
       "      <td>1.000000</td>\n",
       "      <td>...</td>\n",
       "      <td>1.000000</td>\n",
       "      <td>1.000000</td>\n",
       "      <td>1.000000</td>\n",
       "      <td>1.000000</td>\n",
       "      <td>1.000000</td>\n",
       "      <td>1.000000</td>\n",
       "      <td>1.000000</td>\n",
       "      <td>1.000000</td>\n",
       "      <td>1.000000</td>\n",
       "      <td>1.000000</td>\n",
       "      <td>1.000000</td>\n",
       "      <td>1.000000</td>\n",
       "      <td>1.000000</td>\n",
       "      <td>1.000000</td>\n",
       "      <td>1.000000</td>\n",
       "      <td>1.000000</td>\n",
       "      <td>0.0</td>\n",
       "      <td>1.000000</td>\n",
       "      <td>1.000000</td>\n",
       "      <td>0.0</td>\n",
       "    </tr>\n",
       "  </tbody>\n",
       "</table>\n",
       "<p>8 rows × 59 columns</p>\n",
       "</div>"
      ],
      "text/plain": [
       "          symboling    doornumber     wheelbase     carlength      carwidth  \\\n",
       "count  1.430000e+02  1.430000e+02  1.430000e+02  1.430000e+02  1.430000e+02   \n",
       "mean   5.473477e-17  9.006005e-17  1.538785e-15  2.003060e-16 -4.093074e-15   \n",
       "std    1.003515e+00  1.003515e+00  1.003515e+00  1.003515e+00  1.003515e+00   \n",
       "min   -2.347020e+00 -1.126872e+00 -2.006930e+00 -2.574223e+00 -2.510760e+00   \n",
       "25%   -6.689008e-01 -1.126872e+00 -6.771770e-01 -6.186702e-01 -8.565171e-01   \n",
       "50%    1.701590e-01  8.874120e-01 -3.405307e-01 -1.128552e-01 -1.993522e-01   \n",
       "75%    1.701590e-01  8.874120e-01  4.505882e-01  7.076008e-01  4.804736e-01   \n",
       "max    1.848278e+00  8.874120e-01  2.874442e+00  2.324616e+00  2.927846e+00   \n",
       "\n",
       "          carheight    curbweight  cylindernumber    enginesize     boreratio  \\\n",
       "count  1.430000e+02  1.430000e+02    1.430000e+02  1.430000e+02  1.430000e+02   \n",
       "mean   5.450186e-16 -1.894367e-16   -3.726623e-16 -4.308908e-17 -1.059758e-15   \n",
       "std    1.003515e+00  1.003515e+00    1.003515e+00  1.003515e+00  1.003515e+00   \n",
       "min   -2.371619e+00 -1.937401e+00   -2.084351e+00 -1.566427e+00 -2.412359e+00   \n",
       "25%   -7.222984e-01 -7.711028e-01   -3.514313e-01 -6.847340e-01 -9.320600e-01   \n",
       "50%    6.112865e-02 -2.478347e-01   -3.514313e-01 -3.663447e-01  9.948427e-03   \n",
       "75%    7.414732e-01  7.203955e-01   -3.514313e-01  3.928914e-01  8.942829e-01   \n",
       "max    2.287711e+00  2.812547e+00    6.580247e+00  4.923816e+00  2.432256e+00   \n",
       "\n",
       "             stroke  compressionratio    horsepower       peakrpm  \\\n",
       "count  1.430000e+02      1.430000e+02  1.430000e+02  1.430000e+02   \n",
       "mean   2.155230e-15      7.259151e-17  1.195625e-16  6.009179e-16   \n",
       "std    1.003515e+00      1.003515e+00  1.003515e+00  1.003515e+00   \n",
       "min   -3.403827e+00     -8.072216e-01 -1.378157e+00 -2.043565e+00   \n",
       "25%   -4.497569e-01     -3.841200e-01 -8.223718e-01 -6.882361e-01   \n",
       "50%    6.399437e-02     -2.783446e-01 -2.160603e-01  1.458127e-01   \n",
       "75%    4.814173e-01     -1.725692e-01  3.397252e-01  7.713493e-01   \n",
       "max    2.953845e+00      3.423794e+00  4.684957e+00  3.064983e+00   \n",
       "\n",
       "              price    avgmiliege  CarName_audi  CarName_bmw  CarName_buick  \\\n",
       "count  1.430000e+02  1.430000e+02    143.000000   143.000000     143.000000   \n",
       "mean   1.925422e-16  1.257735e-16      0.034965     0.041958       0.034965   \n",
       "std    1.003515e+00  1.003515e+00      0.184337     0.201198       0.184337   \n",
       "min   -1.020394e+00 -1.908993e+00      0.000000     0.000000       0.000000   \n",
       "25%   -7.072706e-01 -8.710235e-01      0.000000     0.000000       0.000000   \n",
       "50%   -3.674114e-01 -1.296166e-01      0.000000     0.000000       0.000000   \n",
       "75%    4.381475e-01  8.342124e-01      0.000000     0.000000       0.000000   \n",
       "max    3.632362e+00  3.429137e+00      1.000000     1.000000       1.000000   \n",
       "\n",
       "       CarName_chevrolet  ...  carbody_hardtop  carbody_hatchback  \\\n",
       "count         143.000000  ...       143.000000         143.000000   \n",
       "mean            0.020979  ...         0.020979           0.342657   \n",
       "std             0.143818  ...         0.143818           0.476266   \n",
       "min             0.000000  ...         0.000000           0.000000   \n",
       "25%             0.000000  ...         0.000000           0.000000   \n",
       "50%             0.000000  ...         0.000000           0.000000   \n",
       "75%             0.000000  ...         0.000000           1.000000   \n",
       "max             1.000000  ...         1.000000           1.000000   \n",
       "\n",
       "       carbody_sedan  carbody_wagon  drivewheel_fwd  drivewheel_rwd  \\\n",
       "count     143.000000     143.000000      143.000000      143.000000   \n",
       "mean        0.475524       0.132867        0.594406        0.349650   \n",
       "std         0.501156       0.340624        0.492733        0.478536   \n",
       "min         0.000000       0.000000        0.000000        0.000000   \n",
       "25%         0.000000       0.000000        0.000000        0.000000   \n",
       "50%         0.000000       0.000000        1.000000        0.000000   \n",
       "75%         1.000000       0.000000        1.000000        1.000000   \n",
       "max         1.000000       1.000000        1.000000        1.000000   \n",
       "\n",
       "       enginelocation_rear  enginetype_dohcv  enginetype_l  enginetype_ohc  \\\n",
       "count           143.000000        143.000000    143.000000      143.000000   \n",
       "mean              0.006993          0.006993      0.062937        0.685315   \n",
       "std               0.083624          0.083624      0.243703        0.466023   \n",
       "min               0.000000          0.000000      0.000000        0.000000   \n",
       "25%               0.000000          0.000000      0.000000        0.000000   \n",
       "50%               0.000000          0.000000      0.000000        1.000000   \n",
       "75%               0.000000          0.000000      0.000000        1.000000   \n",
       "max               1.000000          1.000000      1.000000        1.000000   \n",
       "\n",
       "       enginetype_ohcf  enginetype_ohcv  enginetype_rotor  fuelsystem_2bbl  \\\n",
       "count       143.000000       143.000000        143.000000       143.000000   \n",
       "mean          0.083916         0.062937          0.027972         0.349650   \n",
       "std           0.278236         0.243703          0.165472         0.478536   \n",
       "min           0.000000         0.000000          0.000000         0.000000   \n",
       "25%           0.000000         0.000000          0.000000         0.000000   \n",
       "50%           0.000000         0.000000          0.000000         0.000000   \n",
       "75%           0.000000         0.000000          0.000000         1.000000   \n",
       "max           1.000000         1.000000          1.000000         1.000000   \n",
       "\n",
       "       fuelsystem_4bbl  fuelsystem_idi  fuelsystem_mfi  fuelsystem_mpfi  \\\n",
       "count       143.000000      143.000000           143.0       143.000000   \n",
       "mean          0.020979        0.090909             0.0         0.440559   \n",
       "std           0.143818        0.288490             0.0         0.498199   \n",
       "min           0.000000        0.000000             0.0         0.000000   \n",
       "25%           0.000000        0.000000             0.0         0.000000   \n",
       "50%           0.000000        0.000000             0.0         0.000000   \n",
       "75%           0.000000        0.000000             0.0         1.000000   \n",
       "max           1.000000        1.000000             0.0         1.000000   \n",
       "\n",
       "       fuelsystem_spdi  fuelsystem_spfi  \n",
       "count       143.000000            143.0  \n",
       "mean          0.041958              0.0  \n",
       "std           0.201198              0.0  \n",
       "min           0.000000              0.0  \n",
       "25%           0.000000              0.0  \n",
       "50%           0.000000              0.0  \n",
       "75%           0.000000              0.0  \n",
       "max           1.000000              0.0  \n",
       "\n",
       "[8 rows x 59 columns]"
      ]
     },
     "execution_count": 34,
     "metadata": {},
     "output_type": "execute_result"
    }
   ],
   "source": [
    "df_train.describe()"
   ]
  },
  {
   "cell_type": "markdown",
   "metadata": {},
   "source": [
    "## Step 5: Building a linear model\n",
    "\n",
    "Fit a regression line through the training data using `statsmodels`. Remember that in `statsmodels`, you need to explicitly fit a constant using `sm.add_constant(X)` because if we don't perform this step, `statsmodels` fits a regression line passing through the origin, by default."
   ]
  },
  {
   "cell_type": "code",
   "execution_count": 35,
   "metadata": {},
   "outputs": [],
   "source": [
    "from sklearn.feature_selection import RFE\n",
    "from sklearn.linear_model import LinearRegression\n",
    "import statsmodels.api as sm \n",
    "from statsmodels.stats.outliers_influence import variance_inflation_factor"
   ]
  },
  {
   "cell_type": "code",
   "execution_count": 36,
   "metadata": {},
   "outputs": [],
   "source": [
    "# Split the train dataset into X and y\n",
    "y_train = df_train.pop('price')\n",
    "X_train = df_train"
   ]
  },
  {
   "cell_type": "code",
   "execution_count": 37,
   "metadata": {},
   "outputs": [
    {
     "data": {
      "text/plain": [
       "LinearRegression(copy_X=True, fit_intercept=True, n_jobs=None, normalize=False)"
      ]
     },
     "execution_count": 37,
     "metadata": {},
     "output_type": "execute_result"
    }
   ],
   "source": [
    "lm = LinearRegression()\n",
    "lm.fit(X_train,y_train)"
   ]
  },
  {
   "cell_type": "code",
   "execution_count": 38,
   "metadata": {},
   "outputs": [
    {
     "name": "stdout",
     "output_type": "stream",
     "text": [
      "[0.7806023  0.88647546 0.94703551 0.61117273 0.80157792]\n",
      "0.8053727836990797\n"
     ]
    }
   ],
   "source": [
    "from sklearn.model_selection import cross_val_score\n",
    "score=cross_val_score(lm,X_train,y_train,cv=5)\n",
    "print(score)\n",
    "print(score.mean())"
   ]
  },
  {
   "cell_type": "code",
   "execution_count": 39,
   "metadata": {},
   "outputs": [],
   "source": [
    "rfe = RFE(lm, 10)\n",
    "rfe = rfe.fit(X_train, y_train)"
   ]
  },
  {
   "cell_type": "code",
   "execution_count": 40,
   "metadata": {},
   "outputs": [
    {
     "data": {
      "text/plain": [
       "[('symboling', False, 46),\n",
       " ('doornumber', False, 43),\n",
       " ('wheelbase', False, 31),\n",
       " ('carlength', False, 34),\n",
       " ('carwidth', True, 1),\n",
       " ('carheight', False, 32),\n",
       " ('curbweight', False, 22),\n",
       " ('cylindernumber', False, 37),\n",
       " ('enginesize', True, 1),\n",
       " ('boreratio', False, 23),\n",
       " ('stroke', False, 38),\n",
       " ('compressionratio', False, 4),\n",
       " ('horsepower', False, 36),\n",
       " ('peakrpm', False, 27),\n",
       " ('avgmiliege', False, 25),\n",
       " ('CarName_audi', False, 14),\n",
       " ('CarName_bmw', True, 1),\n",
       " ('CarName_buick', False, 39),\n",
       " ('CarName_chevrolet', False, 13),\n",
       " ('CarName_dodge', False, 11),\n",
       " ('CarName_honda', False, 9),\n",
       " ('CarName_isuzu', False, 24),\n",
       " ('CarName_jaguar', False, 33),\n",
       " ('CarName_mazda', False, 6),\n",
       " ('CarName_mercury', False, 47),\n",
       " ('CarName_mitsubishi', False, 5),\n",
       " ('CarName_nissan', False, 7),\n",
       " ('CarName_peugeot', True, 1),\n",
       " ('CarName_plymouth', False, 12),\n",
       " ('CarName_porsche', False, 16),\n",
       " ('CarName_renault', True, 1),\n",
       " ('CarName_saab', False, 29),\n",
       " ('CarName_subaru', True, 1),\n",
       " ('CarName_toyota', False, 8),\n",
       " ('CarName_volkswagen', False, 10),\n",
       " ('CarName_volvo', False, 44),\n",
       " ('fueltype_gas', False, 3),\n",
       " ('aspiration_turbo', False, 21),\n",
       " ('carbody_hardtop', False, 19),\n",
       " ('carbody_hatchback', False, 17),\n",
       " ('carbody_sedan', False, 18),\n",
       " ('carbody_wagon', False, 20),\n",
       " ('drivewheel_fwd', False, 40),\n",
       " ('drivewheel_rwd', False, 42),\n",
       " ('enginelocation_rear', True, 1),\n",
       " ('enginetype_dohcv', False, 35),\n",
       " ('enginetype_l', True, 1),\n",
       " ('enginetype_ohc', False, 26),\n",
       " ('enginetype_ohcf', True, 1),\n",
       " ('enginetype_ohcv', False, 45),\n",
       " ('enginetype_rotor', True, 1),\n",
       " ('fuelsystem_2bbl', False, 41),\n",
       " ('fuelsystem_4bbl', False, 15),\n",
       " ('fuelsystem_idi', False, 2),\n",
       " ('fuelsystem_mfi', False, 48),\n",
       " ('fuelsystem_mpfi', False, 30),\n",
       " ('fuelsystem_spdi', False, 28),\n",
       " ('fuelsystem_spfi', False, 49)]"
      ]
     },
     "execution_count": 40,
     "metadata": {},
     "output_type": "execute_result"
    }
   ],
   "source": [
    "list(zip(X_train.columns,rfe.support_,rfe.ranking_))"
   ]
  },
  {
   "cell_type": "code",
   "execution_count": 41,
   "metadata": {},
   "outputs": [
    {
     "data": {
      "text/plain": [
       "Index(['carwidth', 'enginesize', 'CarName_bmw', 'CarName_peugeot',\n",
       "       'CarName_renault', 'CarName_subaru', 'enginelocation_rear',\n",
       "       'enginetype_l', 'enginetype_ohcf', 'enginetype_rotor'],\n",
       "      dtype='object')"
      ]
     },
     "execution_count": 41,
     "metadata": {},
     "output_type": "execute_result"
    }
   ],
   "source": [
    "X_train.columns[rfe.support_]"
   ]
  },
  {
   "cell_type": "markdown",
   "metadata": {},
   "source": [
    "Building model using statsmodel, for the detailed statistics"
   ]
  },
  {
   "cell_type": "code",
   "execution_count": 42,
   "metadata": {},
   "outputs": [
    {
     "data": {
      "text/html": [
       "<div>\n",
       "<style scoped>\n",
       "    .dataframe tbody tr th:only-of-type {\n",
       "        vertical-align: middle;\n",
       "    }\n",
       "\n",
       "    .dataframe tbody tr th {\n",
       "        vertical-align: top;\n",
       "    }\n",
       "\n",
       "    .dataframe thead th {\n",
       "        text-align: right;\n",
       "    }\n",
       "</style>\n",
       "<table border=\"1\" class=\"dataframe\">\n",
       "  <thead>\n",
       "    <tr style=\"text-align: right;\">\n",
       "      <th></th>\n",
       "      <th>carwidth</th>\n",
       "      <th>enginesize</th>\n",
       "      <th>CarName_bmw</th>\n",
       "      <th>CarName_peugeot</th>\n",
       "      <th>CarName_renault</th>\n",
       "      <th>CarName_subaru</th>\n",
       "      <th>enginelocation_rear</th>\n",
       "      <th>enginetype_l</th>\n",
       "      <th>enginetype_ohcf</th>\n",
       "      <th>enginetype_rotor</th>\n",
       "    </tr>\n",
       "  </thead>\n",
       "  <tbody>\n",
       "    <tr>\n",
       "      <th>122</th>\n",
       "      <td>-0.924500</td>\n",
       "      <td>-0.660242</td>\n",
       "      <td>0</td>\n",
       "      <td>0</td>\n",
       "      <td>0</td>\n",
       "      <td>0</td>\n",
       "      <td>0</td>\n",
       "      <td>0</td>\n",
       "      <td>0</td>\n",
       "      <td>0</td>\n",
       "    </tr>\n",
       "    <tr>\n",
       "      <th>125</th>\n",
       "      <td>1.114978</td>\n",
       "      <td>0.637806</td>\n",
       "      <td>0</td>\n",
       "      <td>0</td>\n",
       "      <td>0</td>\n",
       "      <td>0</td>\n",
       "      <td>0</td>\n",
       "      <td>0</td>\n",
       "      <td>0</td>\n",
       "      <td>0</td>\n",
       "    </tr>\n",
       "    <tr>\n",
       "      <th>166</th>\n",
       "      <td>-0.833856</td>\n",
       "      <td>-0.660242</td>\n",
       "      <td>0</td>\n",
       "      <td>0</td>\n",
       "      <td>0</td>\n",
       "      <td>0</td>\n",
       "      <td>0</td>\n",
       "      <td>0</td>\n",
       "      <td>0</td>\n",
       "      <td>0</td>\n",
       "    </tr>\n",
       "    <tr>\n",
       "      <th>1</th>\n",
       "      <td>-0.788535</td>\n",
       "      <td>0.123485</td>\n",
       "      <td>0</td>\n",
       "      <td>0</td>\n",
       "      <td>0</td>\n",
       "      <td>0</td>\n",
       "      <td>0</td>\n",
       "      <td>0</td>\n",
       "      <td>0</td>\n",
       "      <td>0</td>\n",
       "    </tr>\n",
       "    <tr>\n",
       "      <th>199</th>\n",
       "      <td>0.616439</td>\n",
       "      <td>0.123485</td>\n",
       "      <td>0</td>\n",
       "      <td>0</td>\n",
       "      <td>0</td>\n",
       "      <td>0</td>\n",
       "      <td>0</td>\n",
       "      <td>0</td>\n",
       "      <td>0</td>\n",
       "      <td>0</td>\n",
       "    </tr>\n",
       "  </tbody>\n",
       "</table>\n",
       "</div>"
      ],
      "text/plain": [
       "     carwidth  enginesize  CarName_bmw  CarName_peugeot  CarName_renault  \\\n",
       "122 -0.924500   -0.660242            0                0                0   \n",
       "125  1.114978    0.637806            0                0                0   \n",
       "166 -0.833856   -0.660242            0                0                0   \n",
       "1   -0.788535    0.123485            0                0                0   \n",
       "199  0.616439    0.123485            0                0                0   \n",
       "\n",
       "     CarName_subaru  enginelocation_rear  enginetype_l  enginetype_ohcf  \\\n",
       "122               0                    0             0                0   \n",
       "125               0                    0             0                0   \n",
       "166               0                    0             0                0   \n",
       "1                 0                    0             0                0   \n",
       "199               0                    0             0                0   \n",
       "\n",
       "     enginetype_rotor  \n",
       "122                 0  \n",
       "125                 0  \n",
       "166                 0  \n",
       "1                   0  \n",
       "199                 0  "
      ]
     },
     "execution_count": 42,
     "metadata": {},
     "output_type": "execute_result"
    }
   ],
   "source": [
    "X_train_rfe = X_train[X_train.columns[rfe.support_]]\n",
    "X_train_rfe.head()"
   ]
  },
  {
   "cell_type": "code",
   "execution_count": 43,
   "metadata": {},
   "outputs": [],
   "source": [
    "def build_model(X,y):\n",
    "    X = sm.add_constant(X) #Adding the constant\n",
    "    lm = sm.OLS(y,X).fit() # fitting the model\n",
    "    print(lm.summary()) # model summary\n",
    "    return X\n",
    "    \n",
    "def checkVIF(X):\n",
    "    vif = pd.DataFrame()\n",
    "    vif['Features'] = X.columns\n",
    "    vif['VIF'] = [variance_inflation_factor(X.values, i) for i in range(X.shape[1])]\n",
    "    vif['VIF'] = round(vif['VIF'], 2)\n",
    "    vif = vif.sort_values(by = \"VIF\", ascending = False)\n",
    "    return(vif)"
   ]
  },
  {
   "cell_type": "markdown",
   "metadata": {},
   "source": [
    "MODEL 1"
   ]
  },
  {
   "cell_type": "code",
   "execution_count": 44,
   "metadata": {},
   "outputs": [
    {
     "name": "stdout",
     "output_type": "stream",
     "text": [
      "                            OLS Regression Results                            \n",
      "==============================================================================\n",
      "Dep. Variable:                  price   R-squared:                       0.907\n",
      "Model:                            OLS   Adj. R-squared:                  0.901\n",
      "Method:                 Least Squares   F-statistic:                     144.3\n",
      "Date:                Mon, 17 Feb 2020   Prob (F-statistic):           3.98e-64\n",
      "Time:                        21:57:52   Log-Likelihood:                -33.027\n",
      "No. Observations:                 143   AIC:                             86.05\n",
      "Df Residuals:                     133   BIC:                             115.7\n",
      "Df Model:                           9                                         \n",
      "Covariance Type:            nonrobust                                         \n",
      "=======================================================================================\n",
      "                          coef    std err          t      P>|t|      [0.025      0.975]\n",
      "---------------------------------------------------------------------------------------\n",
      "const                  -0.0506      0.030     -1.675      0.096      -0.110       0.009\n",
      "carwidth                0.4611      0.047      9.801      0.000       0.368       0.554\n",
      "enginesize              0.4806      0.047     10.124      0.000       0.387       0.575\n",
      "CarName_bmw             1.1247      0.138      8.162      0.000       0.852       1.397\n",
      "CarName_peugeot        -1.2582      0.354     -3.550      0.001      -1.959      -0.557\n",
      "CarName_renault        -0.6256      0.226     -2.770      0.006      -1.072      -0.179\n",
      "CarName_subaru         -0.7985      0.129     -6.192      0.000      -1.054      -0.543\n",
      "enginelocation_rear     1.4538      0.223      6.519      0.000       1.013       1.895\n",
      "enginetype_l            0.9450      0.326      2.902      0.004       0.301       1.589\n",
      "enginetype_ohcf         0.6553      0.115      5.678      0.000       0.427       0.884\n",
      "enginetype_rotor        0.6927      0.172      4.029      0.000       0.353       1.033\n",
      "==============================================================================\n",
      "Omnibus:                        5.615   Durbin-Watson:                   1.942\n",
      "Prob(Omnibus):                  0.060   Jarque-Bera (JB):                5.456\n",
      "Skew:                           0.349   Prob(JB):                       0.0654\n",
      "Kurtosis:                       3.655   Cond. No.                     6.01e+16\n",
      "==============================================================================\n",
      "\n",
      "Warnings:\n",
      "[1] Standard Errors assume that the covariance matrix of the errors is correctly specified.\n",
      "[2] The smallest eigenvalue is 6.98e-32. This might indicate that there are\n",
      "strong multicollinearity problems or that the design matrix is singular.\n"
     ]
    }
   ],
   "source": [
    "X_train_new = build_model(X_train_rfe,y_train)"
   ]
  },
  {
   "cell_type": "code",
   "execution_count": 45,
   "metadata": {},
   "outputs": [
    {
     "data": {
      "text/html": [
       "<div>\n",
       "<style scoped>\n",
       "    .dataframe tbody tr th:only-of-type {\n",
       "        vertical-align: middle;\n",
       "    }\n",
       "\n",
       "    .dataframe tbody tr th {\n",
       "        vertical-align: top;\n",
       "    }\n",
       "\n",
       "    .dataframe thead th {\n",
       "        text-align: right;\n",
       "    }\n",
       "</style>\n",
       "<table border=\"1\" class=\"dataframe\">\n",
       "  <thead>\n",
       "    <tr style=\"text-align: right;\">\n",
       "      <th></th>\n",
       "      <th>Features</th>\n",
       "      <th>VIF</th>\n",
       "    </tr>\n",
       "  </thead>\n",
       "  <tbody>\n",
       "    <tr>\n",
       "      <th>6</th>\n",
       "      <td>CarName_subaru</td>\n",
       "      <td>inf</td>\n",
       "    </tr>\n",
       "    <tr>\n",
       "      <th>7</th>\n",
       "      <td>enginelocation_rear</td>\n",
       "      <td>inf</td>\n",
       "    </tr>\n",
       "    <tr>\n",
       "      <th>9</th>\n",
       "      <td>enginetype_ohcf</td>\n",
       "      <td>inf</td>\n",
       "    </tr>\n",
       "    <tr>\n",
       "      <th>4</th>\n",
       "      <td>CarName_peugeot</td>\n",
       "      <td>9.49</td>\n",
       "    </tr>\n",
       "    <tr>\n",
       "      <th>8</th>\n",
       "      <td>enginetype_l</td>\n",
       "      <td>8.95</td>\n",
       "    </tr>\n",
       "    <tr>\n",
       "      <th>2</th>\n",
       "      <td>enginesize</td>\n",
       "      <td>3.23</td>\n",
       "    </tr>\n",
       "    <tr>\n",
       "      <th>1</th>\n",
       "      <td>carwidth</td>\n",
       "      <td>3.17</td>\n",
       "    </tr>\n",
       "    <tr>\n",
       "      <th>0</th>\n",
       "      <td>const</td>\n",
       "      <td>1.31</td>\n",
       "    </tr>\n",
       "    <tr>\n",
       "      <th>10</th>\n",
       "      <td>enginetype_rotor</td>\n",
       "      <td>1.15</td>\n",
       "    </tr>\n",
       "    <tr>\n",
       "      <th>3</th>\n",
       "      <td>CarName_bmw</td>\n",
       "      <td>1.09</td>\n",
       "    </tr>\n",
       "    <tr>\n",
       "      <th>5</th>\n",
       "      <td>CarName_renault</td>\n",
       "      <td>1.01</td>\n",
       "    </tr>\n",
       "  </tbody>\n",
       "</table>\n",
       "</div>"
      ],
      "text/plain": [
       "               Features   VIF\n",
       "6        CarName_subaru   inf\n",
       "7   enginelocation_rear   inf\n",
       "9       enginetype_ohcf   inf\n",
       "4       CarName_peugeot  9.49\n",
       "8          enginetype_l  8.95\n",
       "2            enginesize  3.23\n",
       "1              carwidth  3.17\n",
       "0                 const  1.31\n",
       "10     enginetype_rotor  1.15\n",
       "3           CarName_bmw  1.09\n",
       "5       CarName_renault  1.01"
      ]
     },
     "execution_count": 45,
     "metadata": {},
     "output_type": "execute_result"
    }
   ],
   "source": [
    "#Calculating the Variance Inflation Factor\n",
    "checkVIF(X_train_new)"
   ]
  },
  {
   "cell_type": "markdown",
   "metadata": {},
   "source": [
    "dropping CarName_subaru because of VIF is infinity."
   ]
  },
  {
   "cell_type": "markdown",
   "metadata": {},
   "source": [
    "MODEL 2"
   ]
  },
  {
   "cell_type": "code",
   "execution_count": 46,
   "metadata": {},
   "outputs": [
    {
     "name": "stdout",
     "output_type": "stream",
     "text": [
      "                            OLS Regression Results                            \n",
      "==============================================================================\n",
      "Dep. Variable:                  price   R-squared:                       0.907\n",
      "Model:                            OLS   Adj. R-squared:                  0.901\n",
      "Method:                 Least Squares   F-statistic:                     144.3\n",
      "Date:                Mon, 17 Feb 2020   Prob (F-statistic):           3.98e-64\n",
      "Time:                        21:58:05   Log-Likelihood:                -33.027\n",
      "No. Observations:                 143   AIC:                             86.05\n",
      "Df Residuals:                     133   BIC:                             115.7\n",
      "Df Model:                           9                                         \n",
      "Covariance Type:            nonrobust                                         \n",
      "=======================================================================================\n",
      "                          coef    std err          t      P>|t|      [0.025      0.975]\n",
      "---------------------------------------------------------------------------------------\n",
      "const                  -0.0506      0.030     -1.675      0.096      -0.110       0.009\n",
      "carwidth                0.4611      0.047      9.801      0.000       0.368       0.554\n",
      "enginesize              0.4806      0.047     10.124      0.000       0.387       0.575\n",
      "CarName_bmw             1.1247      0.138      8.162      0.000       0.852       1.397\n",
      "CarName_peugeot        -1.2582      0.354     -3.550      0.001      -1.959      -0.557\n",
      "CarName_renault        -0.6256      0.226     -2.770      0.006      -1.072      -0.179\n",
      "enginelocation_rear     2.2524      0.346      6.518      0.000       1.569       2.936\n",
      "enginetype_l            0.9450      0.326      2.902      0.004       0.301       1.589\n",
      "enginetype_ohcf        -0.1433      0.101     -1.422      0.157      -0.343       0.056\n",
      "enginetype_rotor        0.6927      0.172      4.029      0.000       0.353       1.033\n",
      "==============================================================================\n",
      "Omnibus:                        5.615   Durbin-Watson:                   1.942\n",
      "Prob(Omnibus):                  0.060   Jarque-Bera (JB):                5.456\n",
      "Skew:                           0.349   Prob(JB):                       0.0654\n",
      "Kurtosis:                       3.655   Cond. No.                         23.8\n",
      "==============================================================================\n",
      "\n",
      "Warnings:\n",
      "[1] Standard Errors assume that the covariance matrix of the errors is correctly specified.\n"
     ]
    }
   ],
   "source": [
    "X_train_new = X_train_new.drop([\"CarName_subaru\"], axis = 1)\n",
    "X_train_new = build_model(X_train_new,y_train)"
   ]
  },
  {
   "cell_type": "markdown",
   "metadata": {},
   "source": [
    "dropping enginetype_ohcf  because of high VIF value."
   ]
  },
  {
   "cell_type": "code",
   "execution_count": 47,
   "metadata": {},
   "outputs": [],
   "source": [
    "X_train_new = X_train_new.drop([\"enginetype_ohcf\"], axis = 1)"
   ]
  },
  {
   "cell_type": "markdown",
   "metadata": {},
   "source": [
    "MODEL 3"
   ]
  },
  {
   "cell_type": "code",
   "execution_count": 48,
   "metadata": {},
   "outputs": [
    {
     "name": "stdout",
     "output_type": "stream",
     "text": [
      "                            OLS Regression Results                            \n",
      "==============================================================================\n",
      "Dep. Variable:                  price   R-squared:                       0.906\n",
      "Model:                            OLS   Adj. R-squared:                  0.900\n",
      "Method:                 Least Squares   F-statistic:                     160.8\n",
      "Date:                Mon, 17 Feb 2020   Prob (F-statistic):           8.22e-65\n",
      "Time:                        21:58:10   Log-Likelihood:                -34.105\n",
      "No. Observations:                 143   AIC:                             86.21\n",
      "Df Residuals:                     134   BIC:                             112.9\n",
      "Df Model:                           8                                         \n",
      "Covariance Type:            nonrobust                                         \n",
      "=======================================================================================\n",
      "                          coef    std err          t      P>|t|      [0.025      0.975]\n",
      "---------------------------------------------------------------------------------------\n",
      "const                  -0.0635      0.029     -2.195      0.030      -0.121      -0.006\n",
      "carwidth                0.4596      0.047      9.735      0.000       0.366       0.553\n",
      "enginesize              0.4870      0.047     10.264      0.000       0.393       0.581\n",
      "CarName_bmw             1.1312      0.138      8.183      0.000       0.858       1.405\n",
      "CarName_peugeot        -1.2647      0.356     -3.555      0.001      -1.968      -0.561\n",
      "CarName_renault        -0.6133      0.227     -2.707      0.008      -1.061      -0.165\n",
      "enginelocation_rear     2.1107      0.332      6.355      0.000       1.454       2.768\n",
      "enginetype_l            0.9641      0.327      2.952      0.004       0.318       1.610\n",
      "enginetype_rotor        0.7137      0.172      4.151      0.000       0.374       1.054\n",
      "==============================================================================\n",
      "Omnibus:                        5.533   Durbin-Watson:                   1.944\n",
      "Prob(Omnibus):                  0.063   Jarque-Bera (JB):                5.168\n",
      "Skew:                           0.374   Prob(JB):                       0.0755\n",
      "Kurtosis:                       3.555   Cond. No.                         23.8\n",
      "==============================================================================\n",
      "\n",
      "Warnings:\n",
      "[1] Standard Errors assume that the covariance matrix of the errors is correctly specified.\n"
     ]
    }
   ],
   "source": [
    "X_train_new = build_model(X_train_new,y_train)"
   ]
  },
  {
   "cell_type": "code",
   "execution_count": 49,
   "metadata": {},
   "outputs": [
    {
     "data": {
      "text/html": [
       "<div>\n",
       "<style scoped>\n",
       "    .dataframe tbody tr th:only-of-type {\n",
       "        vertical-align: middle;\n",
       "    }\n",
       "\n",
       "    .dataframe tbody tr th {\n",
       "        vertical-align: top;\n",
       "    }\n",
       "\n",
       "    .dataframe thead th {\n",
       "        text-align: right;\n",
       "    }\n",
       "</style>\n",
       "<table border=\"1\" class=\"dataframe\">\n",
       "  <thead>\n",
       "    <tr style=\"text-align: right;\">\n",
       "      <th></th>\n",
       "      <th>Features</th>\n",
       "      <th>VIF</th>\n",
       "    </tr>\n",
       "  </thead>\n",
       "  <tbody>\n",
       "    <tr>\n",
       "      <th>4</th>\n",
       "      <td>CarName_peugeot</td>\n",
       "      <td>9.49</td>\n",
       "    </tr>\n",
       "    <tr>\n",
       "      <th>7</th>\n",
       "      <td>enginetype_l</td>\n",
       "      <td>8.94</td>\n",
       "    </tr>\n",
       "    <tr>\n",
       "      <th>2</th>\n",
       "      <td>enginesize</td>\n",
       "      <td>3.20</td>\n",
       "    </tr>\n",
       "    <tr>\n",
       "      <th>1</th>\n",
       "      <td>carwidth</td>\n",
       "      <td>3.17</td>\n",
       "    </tr>\n",
       "    <tr>\n",
       "      <th>0</th>\n",
       "      <td>const</td>\n",
       "      <td>1.19</td>\n",
       "    </tr>\n",
       "    <tr>\n",
       "      <th>8</th>\n",
       "      <td>enginetype_rotor</td>\n",
       "      <td>1.14</td>\n",
       "    </tr>\n",
       "    <tr>\n",
       "      <th>3</th>\n",
       "      <td>CarName_bmw</td>\n",
       "      <td>1.09</td>\n",
       "    </tr>\n",
       "    <tr>\n",
       "      <th>6</th>\n",
       "      <td>enginelocation_rear</td>\n",
       "      <td>1.09</td>\n",
       "    </tr>\n",
       "    <tr>\n",
       "      <th>5</th>\n",
       "      <td>CarName_renault</td>\n",
       "      <td>1.01</td>\n",
       "    </tr>\n",
       "  </tbody>\n",
       "</table>\n",
       "</div>"
      ],
      "text/plain": [
       "              Features   VIF\n",
       "4      CarName_peugeot  9.49\n",
       "7         enginetype_l  8.94\n",
       "2           enginesize  3.20\n",
       "1             carwidth  3.17\n",
       "0                const  1.19\n",
       "8     enginetype_rotor  1.14\n",
       "3          CarName_bmw  1.09\n",
       "6  enginelocation_rear  1.09\n",
       "5      CarName_renault  1.01"
      ]
     },
     "execution_count": 49,
     "metadata": {},
     "output_type": "execute_result"
    }
   ],
   "source": [
    "checkVIF(X_train_new)"
   ]
  },
  {
   "cell_type": "markdown",
   "metadata": {},
   "source": [
    "MODEL 4"
   ]
  },
  {
   "cell_type": "code",
   "execution_count": 50,
   "metadata": {},
   "outputs": [
    {
     "name": "stdout",
     "output_type": "stream",
     "text": [
      "                            OLS Regression Results                            \n",
      "==============================================================================\n",
      "Dep. Variable:                  price   R-squared:                       0.897\n",
      "Model:                            OLS   Adj. R-squared:                  0.891\n",
      "Method:                 Least Squares   F-statistic:                     167.5\n",
      "Date:                Mon, 17 Feb 2020   Prob (F-statistic):           2.49e-63\n",
      "Time:                        21:58:15   Log-Likelihood:                -40.550\n",
      "No. Observations:                 143   AIC:                             97.10\n",
      "Df Residuals:                     135   BIC:                             120.8\n",
      "Df Model:                           7                                         \n",
      "Covariance Type:            nonrobust                                         \n",
      "=======================================================================================\n",
      "                          coef    std err          t      P>|t|      [0.025      0.975]\n",
      "---------------------------------------------------------------------------------------\n",
      "const                  -0.0663      0.030     -2.198      0.030      -0.126      -0.007\n",
      "carwidth                0.4115      0.047      8.729      0.000       0.318       0.505\n",
      "enginesize              0.5101      0.049     10.415      0.000       0.413       0.607\n",
      "CarName_bmw             1.1269      0.144      7.822      0.000       0.842       1.412\n",
      "CarName_renault        -0.5991      0.236     -2.538      0.012      -1.066      -0.132\n",
      "enginelocation_rear     2.0560      0.346      5.946      0.000       1.372       2.740\n",
      "enginetype_l           -0.1238      0.119     -1.040      0.300      -0.359       0.112\n",
      "enginetype_rotor        0.7431      0.179      4.152      0.000       0.389       1.097\n",
      "==============================================================================\n",
      "Omnibus:                       10.615   Durbin-Watson:                   1.972\n",
      "Prob(Omnibus):                  0.005   Jarque-Bera (JB):               11.115\n",
      "Skew:                           0.570   Prob(JB):                      0.00386\n",
      "Kurtosis:                       3.752   Cond. No.                         16.6\n",
      "==============================================================================\n",
      "\n",
      "Warnings:\n",
      "[1] Standard Errors assume that the covariance matrix of the errors is correctly specified.\n"
     ]
    },
    {
     "data": {
      "text/html": [
       "<div>\n",
       "<style scoped>\n",
       "    .dataframe tbody tr th:only-of-type {\n",
       "        vertical-align: middle;\n",
       "    }\n",
       "\n",
       "    .dataframe tbody tr th {\n",
       "        vertical-align: top;\n",
       "    }\n",
       "\n",
       "    .dataframe thead th {\n",
       "        text-align: right;\n",
       "    }\n",
       "</style>\n",
       "<table border=\"1\" class=\"dataframe\">\n",
       "  <thead>\n",
       "    <tr style=\"text-align: right;\">\n",
       "      <th></th>\n",
       "      <th>Features</th>\n",
       "      <th>VIF</th>\n",
       "    </tr>\n",
       "  </thead>\n",
       "  <tbody>\n",
       "    <tr>\n",
       "      <th>2</th>\n",
       "      <td>enginesize</td>\n",
       "      <td>3.14</td>\n",
       "    </tr>\n",
       "    <tr>\n",
       "      <th>1</th>\n",
       "      <td>carwidth</td>\n",
       "      <td>2.91</td>\n",
       "    </tr>\n",
       "    <tr>\n",
       "      <th>0</th>\n",
       "      <td>const</td>\n",
       "      <td>1.19</td>\n",
       "    </tr>\n",
       "    <tr>\n",
       "      <th>7</th>\n",
       "      <td>enginetype_rotor</td>\n",
       "      <td>1.14</td>\n",
       "    </tr>\n",
       "    <tr>\n",
       "      <th>3</th>\n",
       "      <td>CarName_bmw</td>\n",
       "      <td>1.09</td>\n",
       "    </tr>\n",
       "    <tr>\n",
       "      <th>5</th>\n",
       "      <td>enginelocation_rear</td>\n",
       "      <td>1.09</td>\n",
       "    </tr>\n",
       "    <tr>\n",
       "      <th>6</th>\n",
       "      <td>enginetype_l</td>\n",
       "      <td>1.09</td>\n",
       "    </tr>\n",
       "    <tr>\n",
       "      <th>4</th>\n",
       "      <td>CarName_renault</td>\n",
       "      <td>1.00</td>\n",
       "    </tr>\n",
       "  </tbody>\n",
       "</table>\n",
       "</div>"
      ],
      "text/plain": [
       "              Features   VIF\n",
       "2           enginesize  3.14\n",
       "1             carwidth  2.91\n",
       "0                const  1.19\n",
       "7     enginetype_rotor  1.14\n",
       "3          CarName_bmw  1.09\n",
       "5  enginelocation_rear  1.09\n",
       "6         enginetype_l  1.09\n",
       "4      CarName_renault  1.00"
      ]
     },
     "execution_count": 50,
     "metadata": {},
     "output_type": "execute_result"
    }
   ],
   "source": [
    "#Dropping dohcv to see the changes in model statistics\n",
    "X_train_new = X_train_new.drop([\"CarName_peugeot\"], axis = 1)\n",
    "X_train_new = build_model(X_train_new,y_train)\n",
    "checkVIF(X_train_new)"
   ]
  },
  {
   "cell_type": "markdown",
   "metadata": {},
   "source": [
    "MODEL 5"
   ]
  },
  {
   "cell_type": "code",
   "execution_count": 51,
   "metadata": {},
   "outputs": [
    {
     "name": "stdout",
     "output_type": "stream",
     "text": [
      "                            OLS Regression Results                            \n",
      "==============================================================================\n",
      "Dep. Variable:                  price   R-squared:                       0.896\n",
      "Model:                            OLS   Adj. R-squared:                  0.891\n",
      "Method:                 Least Squares   F-statistic:                     195.2\n",
      "Date:                Mon, 17 Feb 2020   Prob (F-statistic):           2.92e-64\n",
      "Time:                        21:58:42   Log-Likelihood:                -41.121\n",
      "No. Observations:                 143   AIC:                             96.24\n",
      "Df Residuals:                     136   BIC:                             117.0\n",
      "Df Model:                           6                                         \n",
      "Covariance Type:            nonrobust                                         \n",
      "=======================================================================================\n",
      "                          coef    std err          t      P>|t|      [0.025      0.975]\n",
      "---------------------------------------------------------------------------------------\n",
      "const                  -0.0748      0.029     -2.578      0.011      -0.132      -0.017\n",
      "carwidth                0.3978      0.045      8.785      0.000       0.308       0.487\n",
      "enginesize              0.5204      0.048     10.846      0.000       0.426       0.615\n",
      "CarName_bmw             1.1294      0.144      7.838      0.000       0.844       1.414\n",
      "CarName_renault        -0.5879      0.236     -2.492      0.014      -1.054      -0.121\n",
      "enginelocation_rear     2.0419      0.346      5.908      0.000       1.358       2.725\n",
      "enginetype_rotor        0.7640      0.178      4.295      0.000       0.412       1.116\n",
      "==============================================================================\n",
      "Omnibus:                        7.920   Durbin-Watson:                   1.970\n",
      "Prob(Omnibus):                  0.019   Jarque-Bera (JB):                7.687\n",
      "Skew:                           0.497   Prob(JB):                       0.0214\n",
      "Kurtosis:                       3.549   Cond. No.                         16.6\n",
      "==============================================================================\n",
      "\n",
      "Warnings:\n",
      "[1] Standard Errors assume that the covariance matrix of the errors is correctly specified.\n"
     ]
    },
    {
     "data": {
      "text/html": [
       "<div>\n",
       "<style scoped>\n",
       "    .dataframe tbody tr th:only-of-type {\n",
       "        vertical-align: middle;\n",
       "    }\n",
       "\n",
       "    .dataframe tbody tr th {\n",
       "        vertical-align: top;\n",
       "    }\n",
       "\n",
       "    .dataframe thead th {\n",
       "        text-align: right;\n",
       "    }\n",
       "</style>\n",
       "<table border=\"1\" class=\"dataframe\">\n",
       "  <thead>\n",
       "    <tr style=\"text-align: right;\">\n",
       "      <th></th>\n",
       "      <th>Features</th>\n",
       "      <th>VIF</th>\n",
       "    </tr>\n",
       "  </thead>\n",
       "  <tbody>\n",
       "    <tr>\n",
       "      <th>2</th>\n",
       "      <td>enginesize</td>\n",
       "      <td>3.01</td>\n",
       "    </tr>\n",
       "    <tr>\n",
       "      <th>1</th>\n",
       "      <td>carwidth</td>\n",
       "      <td>2.68</td>\n",
       "    </tr>\n",
       "    <tr>\n",
       "      <th>6</th>\n",
       "      <td>enginetype_rotor</td>\n",
       "      <td>1.12</td>\n",
       "    </tr>\n",
       "    <tr>\n",
       "      <th>0</th>\n",
       "      <td>const</td>\n",
       "      <td>1.10</td>\n",
       "    </tr>\n",
       "    <tr>\n",
       "      <th>3</th>\n",
       "      <td>CarName_bmw</td>\n",
       "      <td>1.09</td>\n",
       "    </tr>\n",
       "    <tr>\n",
       "      <th>5</th>\n",
       "      <td>enginelocation_rear</td>\n",
       "      <td>1.08</td>\n",
       "    </tr>\n",
       "    <tr>\n",
       "      <th>4</th>\n",
       "      <td>CarName_renault</td>\n",
       "      <td>1.00</td>\n",
       "    </tr>\n",
       "  </tbody>\n",
       "</table>\n",
       "</div>"
      ],
      "text/plain": [
       "              Features   VIF\n",
       "2           enginesize  3.01\n",
       "1             carwidth  2.68\n",
       "6     enginetype_rotor  1.12\n",
       "0                const  1.10\n",
       "3          CarName_bmw  1.09\n",
       "5  enginelocation_rear  1.08\n",
       "4      CarName_renault  1.00"
      ]
     },
     "execution_count": 51,
     "metadata": {},
     "output_type": "execute_result"
    }
   ],
   "source": [
    "#Dropping dohcv to see the changes in model statistics\n",
    "X_train_new = X_train_new.drop([\"enginetype_l\"], axis = 1)\n",
    "X_train_new = build_model(X_train_new,y_train)\n",
    "checkVIF(X_train_new)"
   ]
  },
  {
   "cell_type": "markdown",
   "metadata": {},
   "source": [
    "## Step 6: Residual Analysis of the train data\n",
    "\n",
    "So, now to check if the error terms are also normally distributed (which is infact, one of the major assumptions of linear regression), let us plot the histogram of the error terms and see what it looks like."
   ]
  },
  {
   "cell_type": "code",
   "execution_count": 52,
   "metadata": {},
   "outputs": [
    {
     "data": {
      "image/png": "[encoded data removed]",
      "text/plain": [
       "<Figure size 432x288 with 1 Axes>"
      ]
     },
     "metadata": {
      "needs_background": "light"
     },
     "output_type": "display_data"
    }
   ],
   "source": [
    "lm = sm.OLS(y_train,X_train_new).fit()\n",
    "y_pred = lm.predict(X_train_new)\n",
    "fig = plt.figure()\n",
    "sns.distplot((y_train - y_pred), bins = 20)\n",
    "fig.suptitle('Error Terms', fontsize = 20)                  # Plot heading \n",
    "plt.xlabel('Errors', fontsize = 18) \n",
    "plt.show()"
   ]
  },
  {
   "cell_type": "markdown",
   "metadata": {},
   "source": [
    "Error terms seem to be approximately normally distributed, so the assumption on the linear modeling seems to be fulfilled."
   ]
  },
  {
   "cell_type": "code",
   "execution_count": 53,
   "metadata": {},
   "outputs": [
    {
     "data": {
      "image/png": "[encoded data removed]",
      "text/plain": [
       "<Figure size 432x288 with 1 Axes>"
      ]
     },
     "metadata": {
      "needs_background": "light"
     },
     "output_type": "display_data"
    }
   ],
   "source": [
    "res = y_train - y_pred\n",
    "plt.scatter(y_train,res)\n",
    "plt.show()"
   ]
  },
  {
   "cell_type": "markdown",
   "metadata": {},
   "source": [
    "Error terms are scattered allover without any pattern"
   ]
  },
  {
   "cell_type": "markdown",
   "metadata": {},
   "source": [
    "## Step 7: Making Predictions Using the Final Model\n",
    "\n",
    "Now that we have fitted the model and checked the normality of error terms, it's time to go ahead and make predictions using the final, i.e. seventh model."
   ]
  },
  {
   "cell_type": "code",
   "execution_count": 54,
   "metadata": {},
   "outputs": [],
   "source": [
    "#Scaling the test set\n",
    "df_test[col_num] = scaler.transform(df_test[col_num])"
   ]
  },
  {
   "cell_type": "code",
   "execution_count": 55,
   "metadata": {},
   "outputs": [],
   "source": [
    "#Dividing into X and y\n",
    "y_test = df_test.pop('price')\n",
    "X_test = df_test"
   ]
  },
  {
   "cell_type": "code",
   "execution_count": 56,
   "metadata": {},
   "outputs": [],
   "source": [
    "# Now let's use our model to make predictions.\n",
    "X_train_new = X_train_new.drop('const',axis=1)\n",
    "# Creating X_test_new dataframe by dropping variables from X_test\n",
    "X_test_new = X_test[X_train_new.columns]\n",
    "# Adding a constant variable \n",
    "X_test_new = sm.add_constant(X_test_new)"
   ]
  },
  {
   "cell_type": "code",
   "execution_count": 57,
   "metadata": {},
   "outputs": [],
   "source": [
    "# Making predictions\n",
    "y_pred = lm.predict(X_test_new)"
   ]
  },
  {
   "cell_type": "markdown",
   "metadata": {},
   "source": [
    "Evaluation of test via comparison of y_pred and y_test"
   ]
  },
  {
   "cell_type": "code",
   "execution_count": 58,
   "metadata": {},
   "outputs": [
    {
     "data": {
      "text/plain": [
       "0.8997211435182687"
      ]
     },
     "execution_count": 58,
     "metadata": {},
     "output_type": "execute_result"
    }
   ],
   "source": [
    "from sklearn.metrics import r2_score \n",
    "r2_score(y_test, y_pred)"
   ]
  },
  {
   "cell_type": "code",
   "execution_count": 59,
   "metadata": {},
   "outputs": [
    {
     "data": {
      "image/png": "[encoded data removed]",
      "text/plain": [
       "<Figure size 432x288 with 1 Axes>"
      ]
     },
     "metadata": {
      "needs_background": "light"
     },
     "output_type": "display_data"
    }
   ],
   "source": [
    "#EVALUATION OF THE MODEL\n",
    "# Plotting y_test and y_pred to understand the spread.\n",
    "fig = plt.figure()\n",
    "plt.scatter(y_test,y_pred)\n",
    "fig.suptitle('y_test vs y_pred', fontsize=20)              # Plot heading \n",
    "plt.xlabel('y_test', fontsize=18)                          # X-label\n",
    "plt.ylabel('y_pred', fontsize=16)\n",
    "plt.show()"
   ]
  },
  {
   "cell_type": "markdown",
   "metadata": {},
   "source": [
    "### Inferences:\n",
    " - R-sqaured and Adjusted R-squared (extent of fit) - 89% variance explained.\n",
    " - F-stats and Prob(F-stats) (overall model fit) - 205.0 and 1.04e-67(approx. 0.0) - Model fir is significant and explained 90% variance is just not by chance.\n",
    " - p-values - p-values for all the coefficients seem to be less than the significance level of 0.05. - meaning that all the predictors are statistically significant."
   ]
  },
  {
   "cell_type": "markdown",
   "metadata": {
    "collapsed": true
   },
   "source": [
    "### Final Inferences on the Model:\n",
    "Below are the variables that are affecting the car prices currently in America.\n",
    " - 1.Engine Size.\n",
    " - 2.Car Width.\n",
    " - 3.Engine Type Rotor.\n",
    " - 4.Engine location Rear.\n",
    " - 5.Car company BMW.\n",
    " - 6.Car company Renault."
   ]
  },
  {
   "cell_type": "code",
   "execution_count": 60,
   "metadata": {},
   "outputs": [
    {
     "name": "stdout",
     "output_type": "stream",
     "text": [
      "MAE: 0.2662896228286988\n",
      "MSE: 0.11602808557498791\n",
      "RMSE: 0.34062895586691966\n"
     ]
    }
   ],
   "source": [
    "from sklearn import metrics\n",
    "print('MAE:', metrics.mean_absolute_error(y_test, y_pred))\n",
    "print('MSE:', metrics.mean_squared_error(y_test, y_pred))\n",
    "print('RMSE:', np.sqrt(metrics.mean_squared_error(y_test, y_pred)))"
   ]
  },
  {
   "cell_type": "markdown",
   "metadata": {},
   "source": [
    "#### Trying other regression methods"
   ]
  },
  {
   "cell_type": "code",
   "execution_count": 139,
   "metadata": {},
   "outputs": [],
   "source": [
    "# Drop the 'car_ID' column\n",
    "car_dfx1 = df_main.copy()\n",
    "cars_dum = pd.get_dummies(car_dfx1[col_cat], drop_first=True)\n",
    "# Drop categorical variable columns\n",
    "car_dfx1 = car_dfx1.drop((col_cat), axis=1)\n",
    "# Concatenate dummy variables with X\n",
    "car_dfx1 = pd.concat([car_dfx1, cars_dum], axis=1)\n",
    "# Let's check the first few rows\n",
    "car_dfx1.drop('car_ID', axis = 1, inplace = True)"
   ]
  },
  {
   "cell_type": "code",
   "execution_count": 140,
   "metadata": {},
   "outputs": [],
   "source": [
    "from sklearn.model_selection import train_test_split\n",
    "df_train, df_test = train_test_split(car_dfx1, train_size = 0.7, test_size = 0.3, random_state = 100)"
   ]
  },
  {
   "cell_type": "code",
   "execution_count": 141,
   "metadata": {},
   "outputs": [],
   "source": [
    "from sklearn.preprocessing import StandardScaler\n",
    "scaler = StandardScaler()\n",
    "df_train[col_num] = scaler.fit_transform(df_train[col_num])"
   ]
  },
  {
   "cell_type": "code",
   "execution_count": 142,
   "metadata": {},
   "outputs": [],
   "source": [
    "# Split the train dataset into X and y\n",
    "y_train = df_train.pop('price')\n",
    "X_train = df_train"
   ]
  },
  {
   "cell_type": "code",
   "execution_count": 143,
   "metadata": {
    "scrolled": false
   },
   "outputs": [
    {
     "name": "stdout",
     "output_type": "stream",
     "text": [
      "{'alpha': 1}\n",
      "0.867794521212615\n"
     ]
    }
   ],
   "source": [
    "from sklearn.linear_model import Ridge\n",
    "from sklearn.model_selection import GridSearchCV\n",
    "ridge=Ridge()\n",
    "parameters={'alpha':[1e-15,1e-10,1e-8,1e-3,1e-2,1,5,10,20,30,35,40]}\n",
    "ridge_regressor=GridSearchCV(ridge,parameters,cv=5)\n",
    "ridge_regressor.fit(X_train,y_train)\n",
    "print(ridge_regressor.best_params_)\n",
    "print(ridge_regressor.best_score_)"
   ]
  },
  {
   "cell_type": "code",
   "execution_count": 144,
   "metadata": {},
   "outputs": [],
   "source": [
    "df_test[col_num] = scaler.transform(df_test[col_num])"
   ]
  },
  {
   "cell_type": "code",
   "execution_count": 145,
   "metadata": {},
   "outputs": [],
   "source": [
    "#Dividing into X and y\n",
    "y_test = df_test.pop('price')\n",
    "X_test = df_test"
   ]
  },
  {
   "cell_type": "code",
   "execution_count": 146,
   "metadata": {},
   "outputs": [
    {
     "name": "stdout",
     "output_type": "stream",
     "text": [
      "R2: 0.9170553164896217\n",
      "MAE: 0.22545392471985454\n",
      "MSE: 0.09597150559934578\n",
      "RMSE: 0.3097926816426524\n"
     ]
    }
   ],
   "source": [
    "#Model Evaluation\n",
    "prediction=ridge_regressor.predict(X_test)\n",
    "from sklearn import metrics\n",
    "print('R2:', metrics.r2_score(y_test, prediction))\n",
    "print('MAE:', metrics.mean_absolute_error(y_test, prediction))\n",
    "print('MSE:', metrics.mean_squared_error(y_test, prediction))\n",
    "print('RMSE:', np.sqrt(metrics.mean_squared_error(y_test, prediction)))"
   ]
  },
  {
   "cell_type": "code",
   "execution_count": 147,
   "metadata": {},
   "outputs": [
    {
     "data": {
      "text/plain": [
       "<matplotlib.axes._subplots.AxesSubplot at 0x18575780548>"
      ]
     },
     "execution_count": 147,
     "metadata": {},
     "output_type": "execute_result"
    },
    {
     "data": {
      "image/png": "[encoded data removed]",
      "text/plain": [
       "<Figure size 432x288 with 1 Axes>"
      ]
     },
     "metadata": {
      "needs_background": "light"
     },
     "output_type": "display_data"
    }
   ],
   "source": [
    "sns.distplot(y_test-prediction)"
   ]
  },
  {
   "cell_type": "code",
   "execution_count": 148,
   "metadata": {},
   "outputs": [
    {
     "data": {
      "text/plain": [
       "<matplotlib.collections.PathCollection at 0x185758e1108>"
      ]
     },
     "execution_count": 148,
     "metadata": {},
     "output_type": "execute_result"
    },
    {
     "data": {
      "image/png": "[encoded data removed]",
      "text/plain": [
       "<Figure size 432x288 with 1 Axes>"
      ]
     },
     "metadata": {
      "needs_background": "light"
     },
     "output_type": "display_data"
    }
   ],
   "source": [
    "plt.scatter(y_test, prediction)"
   ]
  },
  {
   "cell_type": "code",
   "execution_count": 149,
   "metadata": {},
   "outputs": [],
   "source": [
    "# Drop the 'car_ID' column\n",
    "car_dfx1 = df_main.copy()\n",
    "cars_dum = pd.get_dummies(car_dfx1[col_cat], drop_first=True)\n",
    "# Drop categorical variable columns\n",
    "car_dfx1 = car_dfx1.drop((col_cat), axis=1)\n",
    "# Concatenate dummy variables with X\n",
    "car_dfx1 = pd.concat([car_dfx1, cars_dum], axis=1)\n",
    "# Let's check the first few rows\n",
    "car_dfx1.drop('car_ID', axis = 1, inplace = True)"
   ]
  },
  {
   "cell_type": "code",
   "execution_count": 150,
   "metadata": {},
   "outputs": [],
   "source": [
    "from sklearn.model_selection import train_test_split\n",
    "df_train, df_test = train_test_split(car_dfx1, train_size = 0.7, test_size = 0.3, random_state = 100)"
   ]
  },
  {
   "cell_type": "code",
   "execution_count": 151,
   "metadata": {},
   "outputs": [],
   "source": [
    "from sklearn.preprocessing import StandardScaler\n",
    "scaler = StandardScaler()\n",
    "df_train[col_num] = scaler.fit_transform(df_train[col_num])"
   ]
  },
  {
   "cell_type": "code",
   "execution_count": 152,
   "metadata": {},
   "outputs": [],
   "source": [
    "# Split the train dataset into X and y\n",
    "y_train = df_train.pop('price')\n",
    "X_train = df_train"
   ]
  },
  {
   "cell_type": "code",
   "execution_count": 153,
   "metadata": {},
   "outputs": [
    {
     "name": "stdout",
     "output_type": "stream",
     "text": [
      "{'alpha': 0.001}\n",
      "0.8737026214806922\n"
     ]
    }
   ],
   "source": [
    "from sklearn.linear_model import Lasso\n",
    "from sklearn.model_selection import GridSearchCV\n",
    "lasso=Lasso()\n",
    "parameters={'alpha':[1e-15,1e-10,1e-8,1e-3,1e-2,1,5,10,20,30,35,40]}\n",
    "lasso_regressor=GridSearchCV(lasso,parameters,cv=5)\n",
    "lasso_regressor.fit(X_train,y_train)\n",
    "print(lasso_regressor.best_params_)\n",
    "print(lasso_regressor.best_score_)"
   ]
  },
  {
   "cell_type": "code",
   "execution_count": 154,
   "metadata": {},
   "outputs": [],
   "source": [
    "df_test[col_num] = scaler.transform(df_test[col_num])"
   ]
  },
  {
   "cell_type": "code",
   "execution_count": 155,
   "metadata": {},
   "outputs": [],
   "source": [
    "#Dividing into X and y\n",
    "y_test = df_test.pop('price')\n",
    "X_test = df_test"
   ]
  },
  {
   "cell_type": "code",
   "execution_count": 156,
   "metadata": {},
   "outputs": [
    {
     "name": "stdout",
     "output_type": "stream",
     "text": [
      "R2: 0.9220833151108736\n",
      "MAE: 0.21395291003668898\n",
      "MSE: 0.09015383799955788\n",
      "RMSE: 0.3002562871940534\n"
     ]
    }
   ],
   "source": [
    "#Model Evaluation\n",
    "prediction=lasso_regressor.predict(X_test)\n",
    "from sklearn import metrics\n",
    "print('R2:', metrics.r2_score(y_test, prediction))\n",
    "print('MAE:', metrics.mean_absolute_error(y_test, prediction))\n",
    "print('MSE:', metrics.mean_squared_error(y_test, prediction))\n",
    "print('RMSE:', np.sqrt(metrics.mean_squared_error(y_test, prediction)))"
   ]
  },
  {
   "cell_type": "code",
   "execution_count": 157,
   "metadata": {},
   "outputs": [
    {
     "data": {
      "text/plain": [
       "<matplotlib.axes._subplots.AxesSubplot at 0x18576aab948>"
      ]
     },
     "execution_count": 157,
     "metadata": {},
     "output_type": "execute_result"
    },
    {
     "data": {
      "image/png": "[encoded data removed]",
      "text/plain": [
       "<Figure size 432x288 with 1 Axes>"
      ]
     },
     "metadata": {
      "needs_background": "light"
     },
     "output_type": "display_data"
    }
   ],
   "source": [
    "sns.distplot(y_test-prediction)"
   ]
  },
  {
   "cell_type": "code",
   "execution_count": 158,
   "metadata": {},
   "outputs": [
    {
     "data": {
      "text/plain": [
       "<matplotlib.collections.PathCollection at 0x18576a5c3c8>"
      ]
     },
     "execution_count": 158,
     "metadata": {},
     "output_type": "execute_result"
    },
    {
     "data": {
      "image/png": "[encoded data removed]",
      "text/plain": [
       "<Figure size 432x288 with 1 Axes>"
      ]
     },
     "metadata": {
      "needs_background": "light"
     },
     "output_type": "display_data"
    }
   ],
   "source": [
    "plt.scatter(y_test, prediction)"
   ]
  },
  {
   "cell_type": "markdown",
   "metadata": {},
   "source": [
    "#### So out of these regression models Lasso has produced best accuracy of 92% with lowest RMSE of 0.3 on unseen data."
   ]
  }
 ],
 "metadata": {
  "kernelspec": {
   "display_name": "Python 3",
   "language": "python",
   "name": "python3"
  },
  "language_info": {
   "codemirror_mode": {
    "name": "ipython",
    "version": 3
   },
   "file_extension": ".py",
   "mimetype": "text/x-python",
   "name": "python",
   "nbconvert_exporter": "python",
   "pygments_lexer": "ipython3",
   "version": "3.7.6"
  }
 },
 "nbformat": 4,
 "nbformat_minor": 2
}
